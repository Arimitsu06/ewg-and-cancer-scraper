{
 "cells": [
  {
   "cell_type": "code",
   "execution_count": 2,
   "id": "9a7d8224",
   "metadata": {},
   "outputs": [
    {
     "name": "stdout",
     "output_type": "stream",
     "text": [
      "['/home/arimitsu/other_python_projects/ewg_scraper', '/home/arimitsu/anaconda3/envs/mmdetection/lib/python37.zip', '/home/arimitsu/anaconda3/envs/mmdetection/lib/python3.7', '/home/arimitsu/anaconda3/envs/mmdetection/lib/python3.7/lib-dynload', '', '/home/arimitsu/.local/lib/python3.7/site-packages', '/home/arimitsu/anaconda3/envs/mmdetection/lib/python3.7/site-packages', '/home/arimitsu/anaconda3/mmtracking', '/home/arimitsu/anaconda3/yolox/YOLOX', '/home/arimitsu/anaconda3/mmdetection', '/home/arimitsu/anaconda3/envs/mmdetection/lib/python3.7/site-packages/IPython/extensions', '/home/arimitsu/.ipython']\n",
      "['/home/arimitsu/other_python_projects/ewg_scraper', '/home/arimitsu/anaconda3/envs/mmdetection/lib/python37.zip', '/home/arimitsu/anaconda3/envs/mmdetection/lib/python3.7', '/home/arimitsu/anaconda3/envs/mmdetection/lib/python3.7/lib-dynload', '', '/home/arimitsu/.local/lib/python3.7/site-packages', '/home/arimitsu/anaconda3/envs/mmdetection/lib/python3.7/site-packages', '/home/arimitsu/anaconda3/mmtracking', '/home/arimitsu/anaconda3/yolox/YOLOX', '/home/arimitsu/anaconda3/mmdetection', '/home/arimitsu/anaconda3/envs/mmdetection/lib/python3.7/site-packages/IPython/extensions', '/home/arimitsu/.ipython', '/home/arimitsu/anaconda3/lib/python3.9/site-packages']\n"
     ]
    }
   ],
   "source": [
    "import sys\n",
    "print(sys.path)\n",
    "sys.path.append(\"/home/arimitsu/anaconda3/lib/python3.9/site-packages\")\n",
    "print(sys.path)"
   ]
  },
  {
   "cell_type": "code",
   "execution_count": 3,
   "id": "fb0f1ff5",
   "metadata": {},
   "outputs": [],
   "source": [
    "import requests\n",
    "from bs4 import BeautifulSoup\n",
    "import time\n",
    "import math\n",
    "import re\n",
    "import tqdm\n",
    "from tqdm import tqdm\n",
    "import pandas as pd"
   ]
  },
  {
   "cell_type": "code",
   "execution_count": 76,
   "id": "f5d6740f",
   "metadata": {},
   "outputs": [],
   "source": [
    "import fake_useragent\n",
    "from fake_useragent import UserAgent"
   ]
  },
  {
   "cell_type": "code",
   "execution_count": 77,
   "id": "55f1be4e",
   "metadata": {},
   "outputs": [
    {
     "name": "stderr",
     "output_type": "stream",
     "text": [
      "Error occurred during loading data. Trying to use cache server https://fake-useragent.herokuapp.com/browsers/0.1.11\n",
      "Traceback (most recent call last):\n",
      "  File \"/home/arimitsu/anaconda3/lib/python3.9/site-packages/fake_useragent/utils.py\", line 154, in load\n",
      "    for item in get_browsers(verify_ssl=verify_ssl):\n",
      "  File \"/home/arimitsu/anaconda3/lib/python3.9/site-packages/fake_useragent/utils.py\", line 99, in get_browsers\n",
      "    html = html.split('<table class=\"w3-table-all notranslate\">')[1]\n",
      "IndexError: list index out of range\n"
     ]
    }
   ],
   "source": [
    "ua = UserAgent()"
   ]
  },
  {
   "cell_type": "code",
   "execution_count": 6,
   "id": "9d006158",
   "metadata": {},
   "outputs": [],
   "source": [
    "# for URL in urls:\n",
    "URL = \"https://www.ewg.org/tapwater/search-results.php?fips=36001&searchtype=county\"\n",
    "page = requests.get(URL)\n",
    "soup = BeautifulSoup(page.content, \"html.parser\")"
   ]
  },
  {
   "cell_type": "code",
   "execution_count": 7,
   "id": "69a4f668",
   "metadata": {},
   "outputs": [],
   "source": [
    "water_companies = soup.find_all(\"td\")"
   ]
  },
  {
   "cell_type": "code",
   "execution_count": 10,
   "id": "a4723692",
   "metadata": {},
   "outputs": [
    {
     "data": {
      "text/plain": [
       "[<td><a href=\"system.php?pws=NY0110127\">Watervliet City</a></td>,\n",
       " <td>Watervliet</td>,\n",
       " <td><span class=\"pop-served-mobile\">Population served:</span> 9,889</td>,\n",
       " <td><a href=\"system.php?pws=NY0110754\">Pine Mobile Home Park</a></td>,\n",
       " <td>Berne</td>,\n",
       " <td><span class=\"pop-served-mobile\">Population served:</span> 110</td>,\n",
       " <td><a href=\"system.php?pws=NY0110755\">Knoxville Park</a></td>,\n",
       " <td>Knox</td>,\n",
       " <td><span class=\"pop-served-mobile\">Population served:</span> 60</td>,\n",
       " <td><a href=\"system.php?pws=NY0111900\">Heldervale Water District</a></td>,\n",
       " <td>Voorheesville</td>,\n",
       " <td><span class=\"pop-served-mobile\">Population served:</span> 117</td>,\n",
       " <td><a href=\"system.php?pws=NY0117224\">Mapletree Apartments</a></td>,\n",
       " <td>Greenville</td>,\n",
       " <td><span class=\"pop-served-mobile\">Population served:</span> 30</td>,\n",
       " <td><a href=\"system.php?pws=NY0121203\">Feura Bush Water District</a></td>,\n",
       " <td>Voorheesville</td>,\n",
       " <td><span class=\"pop-served-mobile\">Population served:</span> 450</td>,\n",
       " <td><a href=\"system.php?pws=NY0121204\">Swift Road Water District</a></td>,\n",
       " <td>Voorheesville</td>,\n",
       " <td><span class=\"pop-served-mobile\">Population served:</span> 100</td>,\n",
       " <td><a href=\"system.php?pws=NY0123019\">Font Grove Water District</a></td>,\n",
       " <td>Voorheesville</td>,\n",
       " <td><span class=\"pop-served-mobile\">Population served:</span> 45</td>,\n",
       " <td><a href=\"system.php?pws=NY0130000\">Clarksville Water District</a></td>,\n",
       " <td>Slingerlands</td>,\n",
       " <td><span class=\"pop-served-mobile\">Population served:</span> 430</td>,\n",
       " <td><a href=\"system.php?pws=NY0130008\">Northeast Water District</a></td>,\n",
       " <td>Slingerlands</td>,\n",
       " <td><span class=\"pop-served-mobile\">Population served:</span> 370</td>,\n",
       " <td><a href=\"system.php?pws=NY0130039\">Westerlo Town Water Supply</a></td>,\n",
       " <td>Westerlo</td>,\n",
       " <td><span class=\"pop-served-mobile\">Population served:</span> 220</td>,\n",
       " <td><a href=\"system.php?pws=NY0130042\">Miller Road LLC</a></td>,\n",
       " <td>Troy</td>,\n",
       " <td><span class=\"pop-served-mobile\">Population served:</span> 25</td>,\n",
       " <td><a href=\"system.php?pws=NY0100189\">Albany City</a></td>,\n",
       " <td>Albany</td>,\n",
       " <td><span class=\"pop-served-mobile\">Population served:</span> 132,082</td>,\n",
       " <td><a href=\"system.php?pws=NY0100190\">Altamont Village</a></td>,\n",
       " <td>Altamont</td>,\n",
       " <td><span class=\"pop-served-mobile\">Population served:</span> 2,000</td>,\n",
       " <td><a href=\"system.php?pws=NY0100191\">Bethlehem Water District No. 1</a></td>,\n",
       " <td>Delmar</td>,\n",
       " <td><span class=\"pop-served-mobile\">Population served:</span> 62,062</td>,\n",
       " <td><a href=\"system.php?pws=NY0100192\">Cohoes City</a></td>,\n",
       " <td>Cohoes</td>,\n",
       " <td><span class=\"pop-served-mobile\">Population served:</span> 18,450</td>,\n",
       " <td><a href=\"system.php?pws=NY0100193\">South Albany Water District</a></td>,\n",
       " <td>Delmar</td>,\n",
       " <td><span class=\"pop-served-mobile\">Population served:</span> 80</td>,\n",
       " <td><a href=\"system.php?pws=NY0100194\">Colonie Village</a></td>,\n",
       " <td>Colonie</td>,\n",
       " <td><span class=\"pop-served-mobile\">Population served:</span> 8,030</td>,\n",
       " <td><a href=\"system.php?pws=NY0100195\">Green Island Village</a></td>,\n",
       " <td>Village Of Green Island</td>,\n",
       " <td><span class=\"pop-served-mobile\">Population served:</span> 2,900</td>,\n",
       " <td><a href=\"system.php?pws=NY0100198\">Latham Water District</a></td>,\n",
       " <td>Newtonville</td>,\n",
       " <td><span class=\"pop-served-mobile\">Population served:</span> 86,530</td>,\n",
       " <td><a href=\"system.php?pws=NY0100200\">Menands Village</a></td>,\n",
       " <td>Village Of Menands</td>,\n",
       " <td><span class=\"pop-served-mobile\">Population served:</span> 3,900</td>,\n",
       " <td><a href=\"system.php?pws=NY0100201\">Ravena Village</a></td>,\n",
       " <td>Ravena</td>,\n",
       " <td><span class=\"pop-served-mobile\">Population served:</span> 4,500</td>,\n",
       " <td><a href=\"system.php?pws=NY0100202\">Rensselaerville Water District</a></td>,\n",
       " <td>Rensselaerville</td>,\n",
       " <td><span class=\"pop-served-mobile\">Population served:</span> 200</td>,\n",
       " <td><a href=\"system.php?pws=NY0100203\">Voorheesville Village</a></td>,\n",
       " <td>Voorheesville</td>,\n",
       " <td><span class=\"pop-served-mobile\">Population served:</span> 3,100</td>,\n",
       " <td><a href=\"system.php?pws=NY0100205\">Guilderland Town WD</a></td>,\n",
       " <td>Guilderland</td>,\n",
       " <td><span class=\"pop-served-mobile\">Population served:</span> 30,000</td>,\n",
       " <td><a href=\"system.php?pws=NY0100206\">Hannay Reels</a></td>,\n",
       " <td>Westerlo</td>,\n",
       " <td><span class=\"pop-served-mobile\">Population served:</span> 105</td>,\n",
       " <td><a href=\"system.php?pws=NY0101544\">Green Acres Mobile Home Park</a></td>,\n",
       " <td>Schenectady</td>,\n",
       " <td><span class=\"pop-served-mobile\">Population served:</span> 55</td>,\n",
       " <td><a href=\"system.php?pws=NY0101603\">Flemings Mobile Home Park</a></td>,\n",
       " <td>Schenectady</td>,\n",
       " <td><span class=\"pop-served-mobile\">Population served:</span> 200</td>,\n",
       " <td><a href=\"system.php?pws=NY0101642\">Leaning Evergreen Mobile Home Park</a></td>,\n",
       " <td>Delmar</td>,\n",
       " <td><span class=\"pop-served-mobile\">Population served:</span> 50</td>,\n",
       " <td><a href=\"system.php?pws=NY0101643\">Kountry Knolls</a></td>,\n",
       " <td>Altamont</td>,\n",
       " <td><span class=\"pop-served-mobile\">Population served:</span> 80</td>,\n",
       " <td><a href=\"system.php?pws=NY0101648\">Rolling Hills Mobile Home Park</a></td>,\n",
       " <td>Wappingers Falls</td>,\n",
       " <td><span class=\"pop-served-mobile\">Population served:</span> 444</td>,\n",
       " <td><a href=\"system.php?pws=NY0101649\">Pine Ridge Estates</a></td>,\n",
       " <td>Wappingers Falls</td>,\n",
       " <td><span class=\"pop-served-mobile\">Population served:</span> 175</td>,\n",
       " <td><a href=\"system.php?pws=NY0140001\">New Salem Water District</a></td>,\n",
       " <td>Slingerlands</td>,\n",
       " <td><span class=\"pop-served-mobile\">Population served:</span> 350</td>]"
      ]
     },
     "execution_count": 10,
     "metadata": {},
     "output_type": "execute_result"
    }
   ],
   "source": [
    "water_companies"
   ]
  },
  {
   "cell_type": "code",
   "execution_count": 19,
   "id": "61e4e3a1",
   "metadata": {},
   "outputs": [
    {
     "name": "stdout",
     "output_type": "stream",
     "text": [
      "system.php?pws=NY0110127\n",
      "system.php?pws=NY0110754\n",
      "system.php?pws=NY0110755\n",
      "system.php?pws=NY0111900\n",
      "system.php?pws=NY0117224\n",
      "system.php?pws=NY0121203\n",
      "system.php?pws=NY0121204\n",
      "system.php?pws=NY0123019\n",
      "system.php?pws=NY0130000\n",
      "system.php?pws=NY0130008\n",
      "system.php?pws=NY0130039\n",
      "system.php?pws=NY0130042\n",
      "system.php?pws=NY0100189\n",
      "system.php?pws=NY0100190\n",
      "system.php?pws=NY0100191\n",
      "system.php?pws=NY0100192\n",
      "system.php?pws=NY0100193\n",
      "system.php?pws=NY0100194\n",
      "system.php?pws=NY0100195\n",
      "system.php?pws=NY0100198\n",
      "system.php?pws=NY0100200\n",
      "system.php?pws=NY0100201\n",
      "system.php?pws=NY0100202\n",
      "system.php?pws=NY0100203\n",
      "system.php?pws=NY0100205\n",
      "system.php?pws=NY0100206\n",
      "system.php?pws=NY0101544\n",
      "system.php?pws=NY0101603\n",
      "system.php?pws=NY0101642\n",
      "system.php?pws=NY0101643\n",
      "system.php?pws=NY0101648\n",
      "system.php?pws=NY0101649\n",
      "system.php?pws=NY0140001\n"
     ]
    }
   ],
   "source": [
    "for comp in water_companies:\n",
    "    if len(str(comp).split(\"<a href=\")) > 1:\n",
    "        split = str(comp).split('\"')[1]\n",
    "        print(split)"
   ]
  },
  {
   "cell_type": "code",
   "execution_count": 21,
   "id": "46a4efc8",
   "metadata": {},
   "outputs": [
    {
     "data": {
      "text/plain": [
       "'system.php?pws=CA0110018'"
      ]
     },
     "execution_count": 21,
     "metadata": {},
     "output_type": "execute_result"
    }
   ],
   "source": [
    "split"
   ]
  },
  {
   "cell_type": "code",
   "execution_count": 22,
   "id": "d81406cb",
   "metadata": {},
   "outputs": [],
   "source": [
    "water_company_url = \"https://www.ewg.org/tapwater/\" + split"
   ]
  },
  {
   "cell_type": "code",
   "execution_count": 24,
   "id": "c5acfc21",
   "metadata": {},
   "outputs": [],
   "source": [
    "water_company_page = requests.get(water_company_url)\n",
    "# water_company_page = requests.get(\"https://www.ewg.org/tapwater/search-results.php?fips=21067&searchtype=county\")"
   ]
  },
  {
   "cell_type": "code",
   "execution_count": 25,
   "id": "bc358eae",
   "metadata": {},
   "outputs": [
    {
     "data": {
      "text/plain": [
       "'https://www.ewg.org/tapwater/system.php?pws=CA0110018'"
      ]
     },
     "execution_count": 25,
     "metadata": {},
     "output_type": "execute_result"
    }
   ],
   "source": [
    "water_company_url"
   ]
  },
  {
   "cell_type": "code",
   "execution_count": 26,
   "id": "5ed918bb",
   "metadata": {},
   "outputs": [],
   "source": [
    "water_company = BeautifulSoup(water_company_page.content, \"html.parser\")"
   ]
  },
  {
   "cell_type": "code",
   "execution_count": 28,
   "id": "83162f50",
   "metadata": {},
   "outputs": [
    {
     "data": {
      "text/plain": [
       "\n",
       "<!DOCTYPE html>\n",
       "\n",
       "<html lang=\"en\">\n",
       "<head>\n",
       "<meta charset=\"utf-8\"/>\n",
       "<title>EWG Tap Water Database | Sfpuc-pleasanton Wells</title>\n",
       "<meta content=\"EWG's Tap Water Database chemical contaminant results for Sfpuc-pleasanton Wells.  Find out what chemicals are in your tap water.\" name=\"description\"/>\n",
       "<meta content=\"EWG, tap water database, contaminants, tap water quality, tap water testing, drinking water, water, contamination, water filter, water pollution, pollutant, Sfpuc-pleasanton Wells\" name=\"keywords\"/>\n",
       "<meta content=\"Environmental Working Group\" name=\"author\"/>\n",
       "<meta content=\"https://www.ewg.org/tapwater/system.php?pws=CA0110018?pws=CA0110018\" property=\"og:url\"/>\n",
       "<meta content=\"EWG's Tap Water Database: What's in Your Drinking Water?\" property=\"og:title\"/>\n",
       "<meta content=\" Look up your local water system to find out which pollutants might be of concern, and find suggestions on the best kinds of home filters to remove those chemicals.\" property=\"og:description\"/>\n",
       "<meta content=\"https://static.ewg.org/reports/2017/tap-water/img/EWG_Social_Share_TWDB.jpg\" property=\"og:image\"/>\n",
       "<meta content=\"website\" property=\"og:type\">\n",
       "<meta content=\"summary\" name=\"twitter:card\">\n",
       "<meta content=\"@ewg\" name=\"twitter:site\">\n",
       "<meta content=\"EWG's Tap Water Database: What's in Your Drinking Water? | @ewg | #WaterSafety \" name=\"twitter:title\">\n",
       "<meta content=\"width=device-width, initial-scale=1.0, minimum-scale=1.0, maximum-scale=1.0, user-scalable=no\" name=\"viewport\"/>\n",
       "<script src=\"/cdn-cgi/apps/head/bLMY4IbeO5Zdzi60Vrh0H1RYRxE.js\"></script><link href=\"https://cdn.ewg.org/sites/all/themes/EWG/apple-touch-icon-144x144-favicon.png\" rel=\"shortcut icon\" type=\"image/png\"/>\n",
       "<link href=\"https://fonts.googleapis.com/css?family=Nunito:400,700|Lato:100,300,400,700\" rel=\"stylesheet\"/>\n",
       "<link href=\"font-awesome/css/font-awesome.min.css\" rel=\"stylesheet\"/>\n",
       "<link href=\"slick/slick.css\" rel=\"stylesheet\" type=\"text/css\"/>\n",
       "<link href=\"slick/slick-theme.css\" rel=\"stylesheet\" type=\"text/css\"/>\n",
       "<link href=\"js/c3/c3.css\" rel=\"stylesheet\" type=\"text/css\"/>\n",
       "<link href=\"css/lity.css\" rel=\"stylesheet\" type=\"text/css\"/>\n",
       "<link href=\"css/main.css?v=ab4f15010d7acab36f757aa8dfc442d5\" rel=\"stylesheet\" type=\"text/css\"/>\n",
       "<script async=\"\" src=\"/cdn-cgi/bm/cv/669835187/api.js\"></script></meta></meta></meta></meta></head>\n",
       "<body>\n",
       "<noscript><iframe height=\"0\" src=\"//www.googletagmanager.com/ns.html?id=GTM-PPNMZJ\" style=\"display:none;visibility:hidden\" width=\"0\"></iframe></noscript>\n",
       "<script>(function(w,d,s,l,i){w[l]=w[l]||[];w[l].push({'gtm.start':\n",
       "\tnew Date().getTime(),event:'gtm.js'});var f=d.getElementsByTagName(s)[0],\n",
       "\tj=d.createElement(s),dl=l!='dataLayer'?'&l='+l:'';j.async=true;j.src=\n",
       "\t'//www.googletagmanager.com/gtm.js?id='+i+dl;f.parentNode.insertBefore(j,f);\n",
       "\t})(window,document,'script','dataLayer','GTM-PPNMZJ');</script>\n",
       "<header>\n",
       "<div class=\"header-main\">\n",
       "<div class=\"header-menu\" id=\"open-nav-menu\">\n",
       "<i aria-hidden=\"true\" class=\"fa fa-bars fa-2x\"></i>\n",
       "<p>Menu</p>\n",
       "</div>\n",
       "<nav>\n",
       "<div class=\"upper-nav\">\n",
       "<div id=\"close-nav-menu\">\n",
       "<i aria-hidden=\"true\" class=\"fa fa-times fa-2x\"></i>\n",
       "<span>Close</span>\n",
       "</div>\n",
       "<ul>\n",
       "<li><a href=\"./\">Database home</a></li>\n",
       "<li><a href=\"state-of-american-drinking-water.php\">State of American drinking water</a></li>\n",
       "<li><a href=\"consumer-resources.php\">Consumer resources</a></li>\n",
       "<li>Contaminants\n",
       "<ul class=\"upper-nav-sub\">\n",
       "<li><a href=\"ewg-standards.php\">EWG standards</a></li>\n",
       "<li><a href=\"ewg-reviewed-contaminants.php\">Reviewed contaminants</a></li>\n",
       "<li><a href=\"chemical-contaminants.php\">All contaminants</a></li>\n",
       "</ul>\n",
       "</li>\n",
       "<li><a href=\"sourcesofwaterpollution.php\">Pollution sources</a></li>\n",
       "<li><a href=\"farming-and-tap-water.php\">Farming and tap water</a></li>\n",
       "<li><a href=\"research-and-news.php\">Research and news</a></li>\n",
       "<li><a href=\"water-filter-guide.php\">Water filter guide</a></li>\n",
       "</ul>\n",
       "<a href=\"https://act.ewg.org/T9P8JG_kcEu8TSdHvbVgeg2?sourceid=1017772\"><div class=\"primary-btn mobile-show\">DONATE</div></a>\n",
       "</div>\n",
       "<div class=\"lower-nav\">\n",
       "<ul>\n",
       "<li>Find your water</li>\n",
       "<li>\n",
       "<form action=\"search-results.php\">\n",
       "<input max=\"99999\" name=\"zip5\" placeholder=\"Enter your ZIP code\" required=\"\" type=\"number\"/>\n",
       "<input name=\"searchtype\" type=\"hidden\" value=\"zip\"/>\n",
       "<input type=\"submit\" value=\"GO\"/>\n",
       "</form>\n",
       "</li>\n",
       "<li><a href=\"index.php#results-by-state-map\" id=\"find-your-state-nav\">or find your state</a></li>\n",
       "<li><a href=\"advanced-search.php\" id=\"find-your-state-nav\">advanced search</a></li>\n",
       "<li class=\"lower-nav-faqs\"><a href=\"FAQ.php\">FAQs</a></li>\n",
       "<li class=\"lower-nav-methodology\"><a href=\"methodology.php\">Methodology</a></li>\n",
       "</ul>\n",
       "<div class=\"social mobile-show\">\n",
       "<ul>\n",
       "<a href=\"https://www.ewg.org\" target=\"_blank\"><li><img alt=\"EWG Logo\" class=\"header-logo-img\" src=\"https://static.ewg.org/reports/2017/tap-water/img/EWG-logo-white-400.png\"/>EWG Home</li></a>\n",
       "<a href=\"https://www.facebook.com/ewg.org\" target=\"_blank\"><li><i aria-hidden=\"true\" class=\"fa fa-facebook fa-fw\"></i>EWG on Facebook</li></a>\n",
       "<a href=\"https://twitter.com/ewg\" target=\"_blank\"><li><i aria-hidden=\"true\" class=\"fa fa-twitter fa-fw\"></i>EWG on Twitter</li></a>\n",
       "<a href=\"https://www.youtube.com/user/EnvironmentalWG\" target=\"_blank\"><li><i aria-hidden=\"true\" class=\"fa fa-youtube fa-fw\"></i>EWG on Youtube</li></a>\n",
       "<a href=\"https://www.ewg.org/support-our-work/ways-to-donate/stay-touch\" target=\"_blank\"><li><i aria-hidden=\"true\" class=\"fa fa-envelope fa-fw\"></i>Contact EWG</li></a>\n",
       "<a href=\"https://www.amazon.com/?_encoding=UTF8&amp;camp=1789&amp;creative=390957&amp;linkCode=ur2&amp;tag=wwwewgorg-20\" target=\"_blank\"><li><i aria-hidden=\"true\" class=\"fa fa-amazon fa-fw\"></i>Support EWG by Shopping<br/>at Amazon</li></a>\n",
       "</ul>\n",
       "<img alt=\"EWG Logo\" class=\"contact-logo\" src=\"https://static.ewg.org/reports/2017/tap-water/img/EWG_Logo_White.png\"/>\n",
       "</div>\n",
       "</div>\n",
       "</nav>\n",
       "<div class=\"header-logo\">\n",
       "<p><a href=\"https://www.ewg.org\">EWG Home</a></p>\n",
       "<a href=\"https://www.ewg.org\"><img alt=\"EWG Logo\" class=\"header-logo-img\" src=\"https://static.ewg.org/reports/2017/tap-water/img/EWG-logo-white-400.png\"/></a>\n",
       "</div>\n",
       "<h3><a href=\"./\">EWG's Tap Water Database — 2021 UPDATE</a></h3>\n",
       "</div>\n",
       "<div class=\"header-sub\">\n",
       "<div class=\"sub-menu\" id=\"sub-menu\">\n",
       "<a href=\"#contaminants\">Detected contaminants</a><a href=\"#EPAdata\">EPA data</a> </div>\n",
       "<a href=\"https://act.ewg.org/T9P8JG_kcEu8TSdHvbVgeg2?sourceid=1017772\"><div class=\"primary-btn\">Donate</div></a>\n",
       "<a href=\"https://www.facebook.com/ewg.org\" target=\"_blank\"><i aria-hidden=\"true\" class=\"fa fa-facebook fa-2x\"></i></a>\n",
       "<a href=\"https://twitter.com/ewg\" target=\"_blank\"><i aria-hidden=\"true\" class=\"fa fa-twitter fa-2x\"></i></a>\n",
       "</div>\n",
       "</header>\n",
       "<div class=\"fixed-margin-buffer\"></div>\n",
       "<div class=\"flexbox-column-wrapper\">\n",
       "<main>\n",
       "<h1>Sfpuc-pleasanton Wells</h1>\n",
       "<div class=\"system-header-wrapper flex\">\n",
       "<div class=\"system-name-info\">\n",
       "<a class=\"anchor\" id=\"contaminants\"></a>\n",
       "<p class=\"systemtext\">EWG's drinking water quality report shows\n",
       "results of tests conducted by the water utility and provided to the Environmental Working Group by the California State Water Resources Control Board, as well as\n",
       "information from the U.S. EPA Enforcement and Compliance History database (ECHO). For the latest quarter assessed by the U.S. EPA (January 2021 - March 2021), <b>tap water provided by this water utility was in compliance with federal health-based drinking water standards.</b></p>\n",
       "</div>\n",
       "<div class=\"utility-details-width-wrapper\">\n",
       "<div class=\"utility-details-wrapper\">\n",
       "<h2>Utility Details</h2>\n",
       "<ul class=\"served-ul\">\n",
       "<li>Alameda County, California</li>\n",
       "<li><span class=\"bold\">Serves:</span> 1</li> <li><span class=\"bold\">Data available:</span> 2014-2019</li>\n",
       "<li><span class=\"bold\">Source:</span> Groundwater</li>\n",
       "</ul>\n",
       "</div>\n",
       "</div>\n",
       "</div>\n",
       "<h2 class=\"contams-detected-h2\">Contaminants Detected</h2>\n",
       "<div class=\"contaminants-detected-what-to-do-wrapper flex\">\n",
       "<figure class=\"contaminants-figure flex\">\n",
       "<div class=\"contaminant-tile-wrapper\">\n",
       "<div class=\"contaminant-tile flex\" id=\"contaminant-tile-above-hbl\">\n",
       "<p class=\"contaminant-tile-number\">4</p>\n",
       "<p>EXCEED<br/>EWG HEALTH<br/>GUIDELINES</p>\n",
       "</div>\n",
       "<p class=\"total-contaminants\">10 Total Contaminants</p>\n",
       "</div>\n",
       "<div class=\"contaminants-figure-he-list flex\">\n",
       "<ul>\n",
       "<li>Legal does not necessarily equal safe. Getting a passing grade from the federal government does not mean the water meets the latest health guidelines.</li>\n",
       "<li>Legal limits for contaminants in tap water have not been updated in almost 20 years.</li>\n",
       "<li>The best way to ensure clean tap water is to keep pollution out of source water in the first place.</li>\n",
       "</ul>\n",
       "</div>\n",
       "</figure>\n",
       "<div class=\"contaminants-what-to-do-wrapper\">\n",
       "<div class=\"contaminants-what-to-do flex\">\n",
       "<h2>What To Do</h2>\n",
       "<a class=\"btn-primary\" href=\"water-filter-guide.php#findfilter\">Filter contaminants out</a>\n",
       "<a class=\"btn-primary\" href=\"contact-local-government.php\">Contact Your Local Official</a>\n",
       "<a class=\"btn-primary\" href=\"what-about-lead.php?pws=CA0110018\">What About Lead?</a> </div>\n",
       "</div>\n",
       "</div>\n",
       "<div class=\"midpage-callout grid\">\n",
       "<div class=\"text-wrapper\">\n",
       "<h2>Legal ≠ Safe</h2>\n",
       "<h3>EWG Health Guidelines fill the gap in outdated government standards.</h3>\n",
       "<p>The federal government’s legal limits are not health-protective. The EPA has not set a new tap water standard in almost 20 years, and some standards are more than 40 years old.</p>\n",
       "</div>\n",
       "<div class=\"callout-form-wrapper\">\n",
       "<script crossorigin=\"anonymous\" src=\"https://d3rse9xjbp8270.cloudfront.net/at.js\" type=\"text/javascript\"></script>\n",
       "<div class=\"ngp-form\" data-databag=\"everybody\" data-databag-endpoint=\"https://profile.ngpvan.com\" data-fastaction-endpoint=\"https://fastaction.ngpvan.com\" data-fastaction-nologin=\"true\" data-form-url=\"https://actions.everyaction.com/v1/Forms/pJ2PXq9CgEK9HvyVZODZ_A2\" data-inline-errors=\"true\" data-mobile-autofocus=\"false\">\n",
       "</div>\n",
       "</div>\n",
       "</div>\n",
       "<div class=\"contaminants-detected-view-wrapper flex\">\n",
       "<h2>Contaminants Detected</h2>\n",
       "<div class=\"view-wrapper flex\">\n",
       "<span>VIEW:</span>\n",
       "<a class=\"active\" id=\"contaminants-view-above-hbl\">EXCEED GUIDELINES</a>\n",
       "<a id=\"contaminants-view-other\">OTHER DETECTED</a>\n",
       "</div>\n",
       "</div>\n",
       "<div class=\"contaminants-list\" id=\"contams_above_hbl\">\n",
       "<div class=\"contaminants-grid\"><div class=\"contaminant-grid-item\"><section class=\"contaminant-data\"><div class=\"contaminant-name\"> <h3>Chromium (hexavalent)</h3><span class=\"potentital-effect\"> Potential Effect: cancer</span><span class=\"detect-times-greater-than\">178x</span><span class=\"potentital-effect\"> EWG'S HEALTH GUIDELINE</span><div class=\"detect-levels-overview flex\"><div class=\"flex-sb mb10\"><span>THIS UTILITY</span><span>3.55 ppb</span></div><div class=\"flex-sb mb10\"><span>EWG HEALTH GUIDELINE</span><span>0.02 ppb</span></div><div><span class=\"no-legal\">NO LEGAL LIMIT</span></div></div><a class=\"btn-contam-details\">DETAILS</a></div><div class=\"contam-modal-wrapper\"><div class=\"contam-modal-details\"><div class=\"close-modal\">X</div><div class=\"contam-modal-header-wrapper flex\"><h3>Chromium (hexavalent)</h3><a href=\"contaminant.php?contamcode=1080\">more about<br/>this contaminant</a></div><div class=\"contaminant-description\"><p>Chromium (hexavalent) is a carcinogen that commonly contaminates American drinking water. Chromium (hexavalent) in drinking water may be due to industrial pollution or natural occurrences in mineral deposits and groundwater. <a href=\"reviewed-chromium-6.php\">Read more about chromium (hexavalent).</a></p></div><h2 class=\"levels-compare-h2\">Chromium (hexavalent) was found at 178 times above EWG's Health Guideline.</h2><div class=\"contaminant-chart\"><p>EWG Health Guideline</p><div class=\"contam-bar-wrapper flex\">\n",
       "<div class=\"contam-chart-bar ewg-health-guideline-chart\" style=\"width:1%\"></div>\n",
       "<span>0.02 ppb or less</span>\n",
       "</div><p>This Utility</p><div class=\"contam-bar-wrapper flex\">\n",
       "<div class=\"contam-chart-bar this-utility-chart\" style=\"width:90%\"></div>\n",
       "<span>3.55 ppb</span>\n",
       "</div><p>National Average</p><div class=\"contam-bar-wrapper flex\">\n",
       "<div class=\"contam-chart-bar\" style=\"width:12%\"></div>\n",
       "<span>0.484 ppb</span>\n",
       "</div><p>State Average</p><div class=\"contam-bar-wrapper flex\">\n",
       "<div class=\"contam-chart-bar\" style=\"width:34%\"></div>\n",
       "<span>1.36 ppb</span>\n",
       "</div></div><div class=\"contam-bar-wrapper flex\">\n",
       "<div class=\"contam-chart-bar mcl-chart-no-limit flex\">NO LEGAL LIMIT</div>\n",
       "</div><span>The state and national averages were calculated using the averages of the contaminant measurements for each utility in 2013-2019. </span><br/><span>ppb = parts per billion</span><div class=\"health-risks\"><h2>Health Risks</h2><p>The EWG Health Guideline of 0.02 ppb for chromium (hexavalent) was defined by the California Office of Environmental Health Hazard Assessment as a public health goal, the level of a drinking water contaminant that does not pose a significant health risk. This health guideline protects against cancer. </p></div><div class=\"testing-summary-btn-wrapper\"><a href=\"system-contaminant.php?pws=CA0110018&amp;contamcode=1080\"><div class=\"primary-btn\">VIEW MORE TESTING DATA</div></a></div><div class=\"pollution-filtering-wrapper flex\"><div><h2>Pollution Sources</h2><div class=\"pollution-sources-modal-wrapper flex\"><div class=\"pollution-source-wrapper\"><img alt=\"industry icon\" class=\"pollution-source-img\" src=\"https://static.ewg.org/reports/2017/tap-water/img/pollution-source-industry.png\"/><p>Industry</p></div><div class=\"pollution-source-wrapper\"><img alt=\"naturally occuring icon\" class=\"pollution-source-img\" src=\"https://static.ewg.org/reports/2017/tap-water/img/pollution-source-naturally-occuring.png\"/><p>Naturally Occurring</p></div></div></div><div><h2>Filtering Options</h2><div class=\"pollution-sources-modal-wrapper flex\"><div class=\"pollution-source-wrapper\"><img alt=\"reverse osmosis icon\" class=\"pollution-source-img\" src=\"https://static.ewg.org/reports/2017/tap-water/img/Osmosis-Icon.png\"/><p>Reverse Osmosis</p></div><div class=\"pollution-source-wrapper\"><img alt=\"ion exchange icon\" class=\"pollution-source-img\" src=\"https://static.ewg.org/reports/2017/tap-water/img/IonExchange_Icon.png\"/><p>Ion Exchange</p></div></div></div></div> </div> </div> </section> </div><div class=\"contaminant-grid-item\"><section class=\"contaminant-data\"><div class=\"contaminant-name\"> <h3>Nitrate</h3><span class=\"potentital-effect\"> Potential Effect: cancer</span><span class=\"detect-times-greater-than\">18x</span><span class=\"potentital-effect\"> EWG'S HEALTH GUIDELINE</span><div class=\"detect-levels-overview flex\"><div class=\"flex-sb mb10\"><span>THIS UTILITY</span><span>2.46 ppm</span></div><div class=\"flex-sb mb10\"><span>EWG HEALTH GUIDELINE</span><span>0.14 ppm</span></div><div class=\"flex-sb\"><span>LEGAL LIMIT</span><span>10 ppm</span></div></div><a class=\"btn-contam-details\">DETAILS</a></div><div class=\"contam-modal-wrapper\"><div class=\"contam-modal-details\"><div class=\"close-modal\">X</div><div class=\"contam-modal-header-wrapper flex\"><h3>Nitrate</h3><a href=\"contaminant.php?contamcode=1040\">more about<br/>this contaminant</a></div><div class=\"contaminant-description\"><p>Nitrate, a fertilizer chemical, frequently contaminates drinking water due to agricultural and urban runoff, and discharges from municipal wastewater treatment plants and septic tanks. Excessive nitrate in water can cause oxygen deprivation in infants and increase the risk of cancer. <a href=\"reviewed-nitrate.php\">Click here to read more about nitrate.</a></p></div><h2 class=\"levels-compare-h2\">Nitrate was found at 18 times above EWG's Health Guideline.</h2><div class=\"contaminant-chart\"><p>EWG Health Guideline</p><div class=\"contam-bar-wrapper flex\">\n",
       "<div class=\"contam-chart-bar ewg-health-guideline-chart\" style=\"width:1%\"></div>\n",
       "<span>0.14 ppm or less</span>\n",
       "</div><p>This Utility</p><div class=\"contam-bar-wrapper flex\">\n",
       "<div class=\"contam-chart-bar this-utility-chart\" style=\"width:22%\"></div>\n",
       "<span>2.46 ppm</span>\n",
       "</div><p>Legal Limit</p><div class=\"contam-bar-wrapper flex\">\n",
       "<div class=\"contam-chart-bar mcl-chart\" style=\"width:90%\"></div>\n",
       "<span>10 ppm</span>\n",
       "</div><p>National Average</p><div class=\"contam-bar-wrapper flex\">\n",
       "<div class=\"contam-chart-bar\" style=\"width:8%\"></div>\n",
       "<span>0.935 ppm</span>\n",
       "</div><p>State Average</p><div class=\"contam-bar-wrapper flex\">\n",
       "<div class=\"contam-chart-bar\" style=\"width:17%\"></div>\n",
       "<span>1.9 ppm</span>\n",
       "</div></div><span>The state and national averages were calculated using the averages of the contaminant measurements for each utility in 2017-2019. </span><br/><span>ppm = parts per million</span><div class=\"health-risks\"><h2>Health Risks</h2><p>The EWG Health Guideline of 0.14 ppm for nitrate was defined by EWG . This health guideline protects against cancer and harm to fetal growth and development. </p></div><div class=\"testing-summary-btn-wrapper\"><a href=\"system-contaminant.php?pws=CA0110018&amp;contamcode=1040\"><div class=\"primary-btn\">VIEW MORE TESTING DATA</div></a></div><div class=\"pollution-filtering-wrapper flex\"><div><h2>Pollution Sources</h2><div class=\"pollution-sources-modal-wrapper flex\"><div class=\"pollution-source-wrapper\"><img alt=\"agriculture icon\" class=\"pollution-source-img\" src=\"https://static.ewg.org/reports/2017/tap-water/img/pollution-source-agriculture.png\"/><p>Agriculture</p></div><div class=\"pollution-source-wrapper\"><img alt=\"urban area icon\" class=\"pollution-source-img\" src=\"https://static.ewg.org/reports/2017/tap-water/img/pollution-source-runoff-sprawl.png\"/><p>Runoff &amp; Sprawl</p></div><div class=\"pollution-source-wrapper\"><img alt=\"naturally occuring icon\" class=\"pollution-source-img\" src=\"https://static.ewg.org/reports/2017/tap-water/img/pollution-source-naturally-occuring.png\"/><p>Naturally Occurring</p></div></div></div><div><h2>Filtering Options</h2><div class=\"pollution-sources-modal-wrapper flex\"><div class=\"pollution-source-wrapper\"><img alt=\"reverse osmosis icon\" class=\"pollution-source-img\" src=\"https://static.ewg.org/reports/2017/tap-water/img/Osmosis-Icon.png\"/><p>Reverse Osmosis</p></div><div class=\"pollution-source-wrapper\"><img alt=\"ion exchange icon\" class=\"pollution-source-img\" src=\"https://static.ewg.org/reports/2017/tap-water/img/IonExchange_Icon.png\"/><p>Ion Exchange</p></div></div></div></div> </div> </div> </section> </div><div class=\"contaminant-grid-item\"><section class=\"contaminant-data\"><div class=\"contaminant-name\"> <h3>Nitrate and nitrite</h3><span class=\"potentital-effect\"> Potential Effect: cancer</span><span class=\"detect-times-greater-than\">18x</span><span class=\"potentital-effect\"> EWG'S HEALTH GUIDELINE</span><div class=\"detect-levels-overview flex\"><div class=\"flex-sb mb10\"><span>THIS UTILITY</span><span>2.46 ppm</span></div><div class=\"flex-sb mb10\"><span>EWG HEALTH GUIDELINE</span><span>0.14 ppm</span></div><div class=\"flex-sb\"><span>LEGAL LIMIT</span><span>10 ppm</span></div></div><a class=\"btn-contam-details\">DETAILS</a></div><div class=\"contam-modal-wrapper\"><div class=\"contam-modal-details\"><div class=\"close-modal\">X</div><div class=\"contam-modal-header-wrapper flex\"><h3>Nitrate and nitrite</h3><a href=\"contaminant.php?contamcode=1038\">more about<br/>this contaminant</a></div><div class=\"contaminant-description\"><p>Nitrate and nitrite enter water from fertilizer runoff, septic tanks and urban runoff. These contaminants can cause oxygen deprivation for infants and increase the risk of cancer. Nitrite is significantly more toxic than nitrate. <a href=\"reviewed-nitrate.php\">Click here to read more about nitrate.</a></p></div><h2 class=\"levels-compare-h2\">Nitrate and nitrite was found at 18 times above EWG's Health Guideline.</h2><div class=\"contaminant-chart\"><p>EWG Health Guideline</p><div class=\"contam-bar-wrapper flex\">\n",
       "<div class=\"contam-chart-bar ewg-health-guideline-chart\" style=\"width:1%\"></div>\n",
       "<span>0.14 ppm or less</span>\n",
       "</div><p>This Utility</p><div class=\"contam-bar-wrapper flex\">\n",
       "<div class=\"contam-chart-bar this-utility-chart\" style=\"width:22%\"></div>\n",
       "<span>2.46 ppm</span>\n",
       "</div><p>Legal Limit</p><div class=\"contam-bar-wrapper flex\">\n",
       "<div class=\"contam-chart-bar mcl-chart\" style=\"width:90%\"></div>\n",
       "<span>10 ppm</span>\n",
       "</div><p>National Average</p><div class=\"contam-bar-wrapper flex\">\n",
       "<div class=\"contam-chart-bar\" style=\"width:8%\"></div>\n",
       "<span>0.888 ppm</span>\n",
       "</div><p>State Average</p><div class=\"contam-bar-wrapper flex\">\n",
       "<div class=\"contam-chart-bar\" style=\"width:16%\"></div>\n",
       "<span>1.76 ppm</span>\n",
       "</div></div><span>The state and national averages were calculated using the averages of the contaminant measurements for each utility in 2017-2019. </span><br/><span>ppm = parts per million</span><div class=\"health-risks\"><h2>Health Risks</h2>The health guideline of 0.14 parts per million, or ppm, for nitrate and nitrite is based on the equivalent health guideline for nitrate, as defined in a peer-reviewed scientific study by EWG. This guideline represents a one-in-one-million annual cancer risk level. </div><div class=\"testing-summary-btn-wrapper\"><a href=\"system-contaminant.php?pws=CA0110018&amp;contamcode=1038\"><div class=\"primary-btn\">VIEW MORE TESTING DATA</div></a></div><div class=\"pollution-filtering-wrapper flex\"><div><h2>Pollution Sources</h2><div class=\"pollution-sources-modal-wrapper flex\"><div class=\"pollution-source-wrapper\"><img alt=\"agriculture icon\" class=\"pollution-source-img\" src=\"https://static.ewg.org/reports/2017/tap-water/img/pollution-source-agriculture.png\"/><p>Agriculture</p></div><div class=\"pollution-source-wrapper\"><img alt=\"urban area icon\" class=\"pollution-source-img\" src=\"https://static.ewg.org/reports/2017/tap-water/img/pollution-source-runoff-sprawl.png\"/><p>Runoff &amp; Sprawl</p></div><div class=\"pollution-source-wrapper\"><img alt=\"naturally occuring icon\" class=\"pollution-source-img\" src=\"https://static.ewg.org/reports/2017/tap-water/img/pollution-source-naturally-occuring.png\"/><p>Naturally Occurring</p></div></div></div><div><h2>Filtering Options</h2><div class=\"pollution-sources-modal-wrapper flex\"><div class=\"pollution-source-wrapper\"><img alt=\"reverse osmosis icon\" class=\"pollution-source-img\" src=\"https://static.ewg.org/reports/2017/tap-water/img/Osmosis-Icon.png\"/><p>Reverse Osmosis</p></div><div class=\"pollution-source-wrapper\"><img alt=\"ion exchange icon\" class=\"pollution-source-img\" src=\"https://static.ewg.org/reports/2017/tap-water/img/IonExchange_Icon.png\"/><p>Ion Exchange</p></div></div></div></div> </div> </div> </section> </div><div class=\"contaminant-grid-item\"><section class=\"contaminant-data\"><div class=\"contaminant-name\"> <h3>Uranium</h3><span class=\"potentital-effect\"> Potential Effect: cancer</span><span class=\"detect-times-greater-than\">15x</span><span class=\"potentital-effect\"> EWG'S HEALTH GUIDELINE</span><div class=\"detect-levels-overview flex\"><div class=\"flex-sb mb10\"><span>THIS UTILITY</span><span>6.50 pCi/L</span></div><div class=\"flex-sb mb10\"><span>EWG HEALTH GUIDELINE</span><span>0.43 pCi/L</span></div><div class=\"flex-sb\"><span>LEGAL LIMIT</span><span>20 pCi/L</span></div></div><a class=\"btn-contam-details\">DETAILS</a></div><div class=\"contam-modal-wrapper\"><div class=\"contam-modal-details\"><div class=\"close-modal\">X</div><div class=\"contam-modal-header-wrapper flex\"><h3>Uranium</h3><a href=\"contaminant.php?contamcode=X006\">more about<br/>this contaminant</a></div><div class=\"contaminant-description\"><p>Uranium is a known human carcinogen. The federal legal limit for uranium is set at 30 micrograms per liter (corresponding to parts per billion), but utilities can also report uranium in picocuries per liter (pCi/L), which is a measure of radioactivity in water. EWG translated all uranium results to pCi/L using a conversion factor developed by the EPA. With this conversion approach, the limit of 30 ppb corresponds to 20 pCi/L. Drinking water with this much uranium would cause more than 4.6 cancer cases in a population of 100,000. California set a public health goal for uranium of 0.43 pCi/L. </p></div><h2 class=\"levels-compare-h2\">Uranium was found at 15 times above EWG's Health Guideline.</h2><div class=\"contaminant-chart\"><p>EWG Health Guideline</p><div class=\"contam-bar-wrapper flex\">\n",
       "<div class=\"contam-chart-bar ewg-health-guideline-chart\" style=\"width:2%\"></div>\n",
       "<span>0.43 pCi/L or less</span>\n",
       "</div><p>This Utility</p><div class=\"contam-bar-wrapper flex\">\n",
       "<div class=\"contam-chart-bar this-utility-chart\" style=\"width:29%\"></div>\n",
       "<span>6.5 pCi/L</span>\n",
       "</div><p>Legal Limit</p><div class=\"contam-bar-wrapper flex\">\n",
       "<div class=\"contam-chart-bar mcl-chart\" style=\"width:90%\"></div>\n",
       "<span>20 pCi/L</span>\n",
       "</div><p>National Average</p><div class=\"contam-bar-wrapper flex\">\n",
       "<div class=\"contam-chart-bar\" style=\"width:5%\"></div>\n",
       "<span>1.04 pCi/L</span>\n",
       "</div><p>State Average</p><div class=\"contam-bar-wrapper flex\">\n",
       "<div class=\"contam-chart-bar\" style=\"width:11%\"></div>\n",
       "<span>2.54 pCi/L</span>\n",
       "</div></div><span>The state and national averages were calculated using the averages of the contaminant measurements for each utility in 2014-2019. </span><br/><span>pCi/L = picocuries per liter</span><div class=\"health-risks\"><h2>Health Risks</h2><p>The EWG Health Guideline of 0.43 pCi/L for uranium was defined by the California Office of Environmental Health Hazard Assessment as a public health goal, the level of a drinking water contaminant that does not pose a significant health risk. Three most common uranium isotopes are U-234, U-235 and U-238. All isotopes of uranium are radioactive, and the total radioactivity depends on the ratio of isotopes. This health guideline protects against cancer. </p></div><div class=\"testing-summary-btn-wrapper\"><a href=\"system-contaminant.php?pws=CA0110018&amp;contamcode=X006\"><div class=\"primary-btn\">VIEW MORE TESTING DATA</div></a></div><div class=\"pollution-filtering-wrapper flex\"><div><h2>Pollution Sources</h2><div class=\"pollution-sources-modal-wrapper flex\"><div class=\"pollution-source-wrapper\"><img alt=\"industry icon\" class=\"pollution-source-img\" src=\"https://static.ewg.org/reports/2017/tap-water/img/pollution-source-industry.png\"/><p>Industry</p></div><div class=\"pollution-source-wrapper\"><img alt=\"naturally occuring icon\" class=\"pollution-source-img\" src=\"https://static.ewg.org/reports/2017/tap-water/img/pollution-source-naturally-occuring.png\"/><p>Naturally Occurring</p></div></div></div><div><h2>Filtering Options</h2><div class=\"pollution-sources-modal-wrapper flex\"><div class=\"pollution-source-wrapper\"><img alt=\"reverse osmosis icon\" class=\"pollution-source-img\" src=\"https://static.ewg.org/reports/2017/tap-water/img/Osmosis-Icon.png\"/><p>Reverse Osmosis</p></div><div class=\"pollution-source-wrapper\"><img alt=\"ion exchange icon\" class=\"pollution-source-img\" src=\"https://static.ewg.org/reports/2017/tap-water/img/IonExchange_Icon.png\"/><p>Ion Exchange</p></div></div></div></div> </div> </div> </section> </div></div><p>Includes chemicals detected in 2017-2019 for which annual utility averages exceeded an EWG-selected health guideline established by a federal or state public health authority; chemicals detected under the EPA's Unregulated Contaminant Monitoring Rule (UCMR 3) program in 2013 to 2015 (and subsequent testing when available), for which annual utility averages exceeded a health guideline established by a federal or state public health authority; radiological contaminants detected between 2014 and 2019. </p></div>\n",
       "<ul class=\"contaminants-list\" id=\"contams_other\">\n",
       "<div class=\"contaminants-grid\"><div class=\"contaminant-grid-item\"><section class=\"contaminant-data\"><div class=\"contaminant-name\"> <h3>Barium</h3> <span></span><div class=\"detect-levels-overview flex\"><div class=\"flex-sb mb10\"><span>THIS UTILITY</span><span>150.2 ppb</span></div><div class=\"flex-sb mb10\"><span>EWG HEALTH GUIDELINE</span><span>700 ppb</span></div><div class=\"flex-sb\"><span>LEGAL LIMIT</span><span>2,000 ppb</span></div></div><a class=\"btn-contam-details\">DETAILS</a></div><div class=\"contam-modal-wrapper\"><div class=\"contam-modal-details\"><div class=\"close-modal\">X</div><div class=\"contam-modal-header-wrapper flex\"><h3>Barium</h3><a href=\"contaminant.php?contamcode=1010\">more about<br/>this contaminant</a></div><div class=\"contaminant-description\"><p>Barium is a mineral present in rocks, soil and water. High concentrations of barium in drinking water increase the risk of cardiovascular disease and hypertension. </p></div><h2 class=\"levels-compare-h2\">How your levels compare</h2><div class=\"contaminant-chart\"><p>EWG Health Guideline</p><div class=\"contam-bar-wrapper flex\">\n",
       "<div class=\"contam-chart-bar ewg-health-guideline-chart\" style=\"width:32%\"></div>\n",
       "<span>700 ppb or less</span>\n",
       "</div><p>This Utility</p><div class=\"contam-bar-wrapper flex\">\n",
       "<div class=\"contam-chart-bar this-utility-chart\" style=\"width:7%\"></div>\n",
       "<span>150.2 ppb</span>\n",
       "</div><p>Legal Limit</p><div class=\"contam-bar-wrapper flex\">\n",
       "<div class=\"contam-chart-bar mcl-chart\" style=\"width:90%\"></div>\n",
       "<span>2,000 ppb</span>\n",
       "</div><p>National Average</p><div class=\"contam-bar-wrapper flex\">\n",
       "<div class=\"contam-chart-bar\" style=\"width:2%\"></div>\n",
       "<span>41.5 ppb</span>\n",
       "</div><p>State Average</p><div class=\"contam-bar-wrapper flex\">\n",
       "<div class=\"contam-chart-bar\" style=\"width:1%\"></div>\n",
       "<span>29.7 ppb</span>\n",
       "</div></div><span>The state and national averages were calculated using the averages of the contaminant measurements for each utility in 2017-2019. </span><br/><span>ppb = parts per billion</span><div class=\"health-risks\"><h2>Health Risks</h2><p>The EWG Health Guideline of 700 ppb for barium was defined by EWG as benchmark that protects against harm to the kidneys and the cardiovascular system. </p></div><div class=\"testing-summary-btn-wrapper\"><a href=\"system-contaminant.php?pws=CA0110018&amp;contamcode=1010\"><div class=\"primary-btn\">VIEW MORE TESTING DATA</div></a></div><div class=\"pollution-filtering-wrapper flex\"><div><h2>Pollution Sources</h2><div class=\"pollution-sources-modal-wrapper flex\"><div class=\"pollution-source-wrapper\"><img alt=\"industry icon\" class=\"pollution-source-img\" src=\"https://static.ewg.org/reports/2017/tap-water/img/pollution-source-industry.png\"/><p>Industry</p></div><div class=\"pollution-source-wrapper\"><img alt=\"naturally occuring icon\" class=\"pollution-source-img\" src=\"https://static.ewg.org/reports/2017/tap-water/img/pollution-source-naturally-occuring.png\"/><p>Naturally Occurring</p></div></div></div><div><h2>Filtering Options</h2><div class=\"pollution-sources-modal-wrapper flex\"><div class=\"pollution-source-wrapper\"><img alt=\"reverse osmosis icon\" class=\"pollution-source-img\" src=\"https://static.ewg.org/reports/2017/tap-water/img/Osmosis-Icon.png\"/><p>Reverse Osmosis</p></div><div class=\"pollution-source-wrapper\"><img alt=\"ion exchange icon\" class=\"pollution-source-img\" src=\"https://static.ewg.org/reports/2017/tap-water/img/IonExchange_Icon.png\"/><p>Ion Exchange</p></div></div></div></div> </div> </div> </section> </div><div class=\"contaminant-grid-item\"><section class=\"contaminant-data\"><div class=\"contaminant-name\"> <h3>Bromide</h3> <span></span><div class=\"detect-levels-overview flex\"><div class=\"flex-sb mb10\"><span>THIS UTILITY</span><span>364.4 ppb</span></div><div class=\"mb10\"><span class=\"no-legal\">NO EWG HEALTH GUIDELINE</span></div><div><span class=\"no-legal\">NO LEGAL LIMIT</span></div></div><a class=\"btn-contam-details\">DETAILS</a></div><div class=\"contam-modal-wrapper\"><div class=\"contam-modal-details\"><div class=\"close-modal\">X</div><div class=\"contam-modal-header-wrapper flex\"><h3>Bromide</h3><a href=\"contaminant.php?contamcode=1004\">more about<br/>this contaminant</a></div><div class=\"contaminant-description\"><p>Bromide is a naturally occurring element found in surface waters and groundwater. During drinking water treatment, bromide can combine with chlorine or other disinfectants, contributing to the formation of toxic tap water disinfection byproducts. </p></div><h2 class=\"levels-compare-h2\">How your levels compare</h2><div class=\"contaminant-chart\"><p>This Utility</p><div class=\"contam-bar-wrapper flex\">\n",
       "<div class=\"contam-chart-bar this-utility-chart\" style=\"width:90%\"></div>\n",
       "<span>364.4 ppb</span>\n",
       "</div><p>National Average</p><div class=\"contam-bar-wrapper flex\">\n",
       "<div class=\"contam-chart-bar\" style=\"width:13%\"></div>\n",
       "<span>51 ppb</span>\n",
       "</div><p>State Average</p><div class=\"contam-bar-wrapper flex\">\n",
       "<div class=\"contam-chart-bar\" style=\"width:21%\"></div>\n",
       "<span>84.8 ppb</span>\n",
       "</div></div><div class=\"contam-bar-wrapper flex\">\n",
       "<div class=\"contam-chart-bar ewg-health-guideline-chart-no-limit flex\">NO EWG HEALTH GUIDELINE</div>\n",
       "</div><div class=\"contam-bar-wrapper flex\">\n",
       "<div class=\"contam-chart-bar mcl-chart-no-limit flex\">NO LEGAL LIMIT</div>\n",
       "</div><span>The state and national averages were calculated using the averages of the contaminant measurements for each utility in 2017-2019. </span><br/><span>ppb = parts per billion</span><div class=\"testing-summary-btn-wrapper\"><a href=\"system-contaminant.php?pws=CA0110018&amp;contamcode=1004\"><div class=\"primary-btn\">VIEW MORE TESTING DATA</div></a></div><div class=\"pollution-filtering-wrapper flex\"><div><h2>Pollution Sources</h2><div class=\"pollution-sources-modal-wrapper flex\"><div class=\"pollution-source-wrapper\"><img alt=\"industry icon\" class=\"pollution-source-img\" src=\"https://static.ewg.org/reports/2017/tap-water/img/pollution-source-industry.png\"/><p>Industry</p></div><div class=\"pollution-source-wrapper\"><img alt=\"naturally occuring icon\" class=\"pollution-source-img\" src=\"https://static.ewg.org/reports/2017/tap-water/img/pollution-source-naturally-occuring.png\"/><p>Naturally Occurring</p></div></div></div><div><h2>Filtering Options</h2><div class=\"pollution-sources-modal-wrapper flex\"><div class=\"pollution-source-wrapper\"><img alt=\"carbon filter icon\" class=\"pollution-source-img\" src=\"https://static.ewg.org/reports/2017/tap-water/img/Carbon-Icon.png\"/><p>Activated Carbon</p></div><div class=\"pollution-source-wrapper\"><img alt=\"reverse osmosis icon\" class=\"pollution-source-img\" src=\"https://static.ewg.org/reports/2017/tap-water/img/Osmosis-Icon.png\"/><p>Reverse Osmosis</p></div></div></div></div> </div> </div> </section> </div><div class=\"contaminant-grid-item\"><section class=\"contaminant-data\"><div class=\"contaminant-name\"> <h3>Chlorate</h3> <span></span><div class=\"detect-levels-overview flex\"><div class=\"flex-sb mb10\"><span>THIS UTILITY</span><span>80.5 ppb</span></div><div class=\"flex-sb mb10\"><span>EWG HEALTH GUIDELINE</span><span>210 ppb</span></div><div><span class=\"no-legal\">NO LEGAL LIMIT</span></div></div><a class=\"btn-contam-details\">DETAILS</a></div><div class=\"contam-modal-wrapper\"><div class=\"contam-modal-details\"><div class=\"close-modal\">X</div><div class=\"contam-modal-header-wrapper flex\"><h3>Chlorate</h3><a href=\"contaminant.php?contamcode=1007\">more about<br/>this contaminant</a></div><div class=\"contaminant-description\"><p>Chlorate forms in drinking water as a byproduct of disinfection. Chlorate impairs thyroid function, making chlorate exposure most harmful during pregnancy and childhood. </p></div><h2 class=\"levels-compare-h2\">How your levels compare</h2><div class=\"contaminant-chart\"><p>EWG Health Guideline</p><div class=\"contam-bar-wrapper flex\">\n",
       "<div class=\"contam-chart-bar ewg-health-guideline-chart\" style=\"width:90%\"></div>\n",
       "<span>210 ppb or less</span>\n",
       "</div><p>This Utility</p><div class=\"contam-bar-wrapper flex\">\n",
       "<div class=\"contam-chart-bar this-utility-chart\" style=\"width:35%\"></div>\n",
       "<span>80.5 ppb</span>\n",
       "</div><p>National Average</p><div class=\"contam-bar-wrapper flex\">\n",
       "<div class=\"contam-chart-bar\" style=\"width:49%\"></div>\n",
       "<span>114.8 ppb</span>\n",
       "</div><p>State Average</p><div class=\"contam-bar-wrapper flex\">\n",
       "<div class=\"contam-chart-bar\" style=\"width:50%\"></div>\n",
       "<span>117.3 ppb</span>\n",
       "</div></div><div class=\"contam-bar-wrapper flex\">\n",
       "<div class=\"contam-chart-bar mcl-chart-no-limit flex\">NO LEGAL LIMIT</div>\n",
       "</div><span>The state and national averages were calculated using the averages of the contaminant measurements for each utility in 2013-2019. </span><br/><span>ppb = parts per billion</span><div class=\"health-risks\"><h2>Health Risks</h2><p>The EWG Health Guideline of 210 ppb for chlorate was defined by the Environmental Protection Agency as a benchmark for testing under the Unregulated Contaminant Monitoring Rule program. This health guideline protects against hormone disruption. </p></div><div class=\"testing-summary-btn-wrapper\"><a href=\"system-contaminant.php?pws=CA0110018&amp;contamcode=1007\"><div class=\"primary-btn\">VIEW MORE TESTING DATA</div></a></div><div class=\"pollution-filtering-wrapper flex\"><div><h2>Pollution Sources</h2><div class=\"pollution-sources-modal-wrapper flex\"><div class=\"pollution-source-wrapper\"><img alt=\"agriculture icon\" class=\"pollution-source-img\" src=\"https://static.ewg.org/reports/2017/tap-water/img/pollution-source-agriculture.png\"/><p>Agriculture</p></div><div class=\"pollution-source-wrapper\"><img alt=\"industry icon\" class=\"pollution-source-img\" src=\"https://static.ewg.org/reports/2017/tap-water/img/pollution-source-industry.png\"/><p>Industry</p></div><div class=\"pollution-source-wrapper\"><img alt=\"water treatment icon\" class=\"pollution-source-img\" src=\"https://static.ewg.org/reports/2017/tap-water/img/pollution-source-treatment-byproducts.png\"/><p>Treatment Byproducts</p></div></div></div></div> </div> </div> </section> </div><div class=\"contaminant-grid-item\"><section class=\"contaminant-data\"><div class=\"contaminant-name\"> <h3>Fluoride</h3> <span></span><div class=\"detect-levels-overview flex\"><div class=\"flex-sb mb10\"><span>THIS UTILITY</span><span>0.124 ppm</span></div><div class=\"mb10\"><span class=\"no-legal\">NO EWG HEALTH GUIDELINE</span></div><div class=\"flex-sb\"><span>LEGAL LIMIT</span><span>4 ppm</span></div></div><a class=\"btn-contam-details\">DETAILS</a></div><div class=\"contam-modal-wrapper\"><div class=\"contam-modal-details\"><div class=\"close-modal\">X</div><div class=\"contam-modal-header-wrapper flex\"><h3>Fluoride</h3><a href=\"contaminant.php?contamcode=1025\">more about<br/>this contaminant</a></div><div class=\"contaminant-description\"><p>Fluoride occurs naturally in surface and groundwater and is also added to drinking water by many water systems.</p></div><h2 class=\"levels-compare-h2\">How your levels compare</h2><div class=\"contaminant-chart\"><p>This Utility</p><div class=\"contam-bar-wrapper flex\">\n",
       "<div class=\"contam-chart-bar this-utility-chart\" style=\"width:3%\"></div>\n",
       "<span>0.124 ppm</span>\n",
       "</div><p>Legal Limit</p><div class=\"contam-bar-wrapper flex\">\n",
       "<div class=\"contam-chart-bar mcl-chart\" style=\"width:90%\"></div>\n",
       "<span>4 ppm</span>\n",
       "</div><p>National Average</p><div class=\"contam-bar-wrapper flex\">\n",
       "<div class=\"contam-chart-bar\" style=\"width:11%\"></div>\n",
       "<span>0.489 ppm</span>\n",
       "</div><p>State Average</p><div class=\"contam-bar-wrapper flex\">\n",
       "<div class=\"contam-chart-bar\" style=\"width:9%\"></div>\n",
       "<span>0.41 ppm</span>\n",
       "</div></div><div class=\"contam-bar-wrapper flex\">\n",
       "<div class=\"contam-chart-bar ewg-health-guideline-chart-no-limit flex\">NO EWG HEALTH GUIDELINE</div>\n",
       "</div><span>The state and national averages were calculated using the averages of the contaminant measurements for each utility in 2017-2019. </span><br/><span>ppm = parts per million</span><div class=\"testing-summary-btn-wrapper\"><a href=\"system-contaminant.php?pws=CA0110018&amp;contamcode=1025\"><div class=\"primary-btn\">VIEW MORE TESTING DATA</div></a></div><div class=\"pollution-filtering-wrapper flex\"><div><h2>Pollution Sources</h2><div class=\"pollution-sources-modal-wrapper flex\"><div class=\"pollution-source-wrapper\"><img alt=\"water treatment icon\" class=\"pollution-source-img\" src=\"https://static.ewg.org/reports/2017/tap-water/img/pollution-source-treatment-byproducts.png\"/><p>Treatment Byproducts</p></div></div></div><div><h2>Filtering Options</h2><div class=\"pollution-sources-modal-wrapper flex\"><div class=\"pollution-source-wrapper\"><img alt=\"reverse osmosis icon\" class=\"pollution-source-img\" src=\"https://static.ewg.org/reports/2017/tap-water/img/Osmosis-Icon.png\"/><p>Reverse Osmosis</p></div></div></div></div> </div> </div> </section> </div><div class=\"contaminant-grid-item\"><section class=\"contaminant-data\"><div class=\"contaminant-name\"> <h3>Molybdenum</h3> <span></span><div class=\"detect-levels-overview flex\"><div class=\"flex-sb mb10\"><span>THIS UTILITY</span><span>0.683 ppb</span></div><div class=\"flex-sb mb10\"><span>EWG HEALTH GUIDELINE</span><span>40 ppb</span></div><div><span class=\"no-legal\">NO LEGAL LIMIT</span></div></div><a class=\"btn-contam-details\">DETAILS</a></div><div class=\"contam-modal-wrapper\"><div class=\"contam-modal-details\"><div class=\"close-modal\">X</div><div class=\"contam-modal-header-wrapper flex\"><h3>Molybdenum</h3><a href=\"contaminant.php?contamcode=1084\">more about<br/>this contaminant</a></div><div class=\"contaminant-description\"><p>Molybdenum is a metal that occurs naturally in soil, minerals and water. People who ingest large amounts can have increased levels of uric acid and gout-like symptoms.</p></div><h2 class=\"levels-compare-h2\">How your levels compare</h2><div class=\"contaminant-chart\"><p>EWG Health Guideline</p><div class=\"contam-bar-wrapper flex\">\n",
       "<div class=\"contam-chart-bar ewg-health-guideline-chart\" style=\"width:90%\"></div>\n",
       "<span>40 ppb or less</span>\n",
       "</div><p>This Utility</p><div class=\"contam-bar-wrapper flex\">\n",
       "<div class=\"contam-chart-bar this-utility-chart\" style=\"width:2%\"></div>\n",
       "<span>0.683 ppb</span>\n",
       "</div><p>National Average</p><div class=\"contam-bar-wrapper flex\">\n",
       "<div class=\"contam-chart-bar\" style=\"width:3%\"></div>\n",
       "<span>1.52 ppb</span>\n",
       "</div><p>State Average</p><div class=\"contam-bar-wrapper flex\">\n",
       "<div class=\"contam-chart-bar\" style=\"width:8%\"></div>\n",
       "<span>3.5 ppb</span>\n",
       "</div></div><div class=\"contam-bar-wrapper flex\">\n",
       "<div class=\"contam-chart-bar mcl-chart-no-limit flex\">NO LEGAL LIMIT</div>\n",
       "</div><span>The state and national averages were calculated using the averages of the contaminant measurements for each utility in 2013-2019. </span><br/><span>ppb = parts per billion</span><div class=\"health-risks\"><h2>Health Risks</h2><p>The EWG Health Guideline of 40 ppb for molybdenum was defined by the Environmental Protection Agency as a benchmark for testing under the Unregulated Contaminant Monitoring Rule program. This health guideline protects against metabolic changes and excess formation of uric acid in the blood. </p></div><div class=\"testing-summary-btn-wrapper\"><a href=\"system-contaminant.php?pws=CA0110018&amp;contamcode=1084\"><div class=\"primary-btn\">VIEW MORE TESTING DATA</div></a></div><div class=\"pollution-filtering-wrapper flex\"><div><h2>Pollution Sources</h2><div class=\"pollution-sources-modal-wrapper flex\"><div class=\"pollution-source-wrapper\"><img alt=\"industry icon\" class=\"pollution-source-img\" src=\"https://static.ewg.org/reports/2017/tap-water/img/pollution-source-industry.png\"/><p>Industry</p></div><div class=\"pollution-source-wrapper\"><img alt=\"naturally occuring icon\" class=\"pollution-source-img\" src=\"https://static.ewg.org/reports/2017/tap-water/img/pollution-source-naturally-occuring.png\"/><p>Naturally Occurring</p></div></div></div><div><h2>Filtering Options</h2><div class=\"pollution-sources-modal-wrapper flex\"><div class=\"pollution-source-wrapper\"><img alt=\"reverse osmosis icon\" class=\"pollution-source-img\" src=\"https://static.ewg.org/reports/2017/tap-water/img/Osmosis-Icon.png\"/><p>Reverse Osmosis</p></div><div class=\"pollution-source-wrapper\"><img alt=\"ion exchange icon\" class=\"pollution-source-img\" src=\"https://static.ewg.org/reports/2017/tap-water/img/IonExchange_Icon.png\"/><p>Ion Exchange</p></div></div></div></div> </div> </div> </section> </div><div class=\"contaminant-grid-item\"><section class=\"contaminant-data\"><div class=\"contaminant-name\"> <h3>Vanadium</h3> <span></span><div class=\"detect-levels-overview flex\"><div class=\"flex-sb mb10\"><span>THIS UTILITY</span><span>1.04 ppb</span></div><div class=\"flex-sb mb10\"><span>EWG HEALTH GUIDELINE</span><span>21 ppb</span></div><div><span class=\"no-legal\">NO LEGAL LIMIT</span></div></div><a class=\"btn-contam-details\">DETAILS</a></div><div class=\"contam-modal-wrapper\"><div class=\"contam-modal-details\"><div class=\"close-modal\">X</div><div class=\"contam-modal-header-wrapper flex\"><h3>Vanadium</h3><a href=\"contaminant.php?contamcode=1088\">more about<br/>this contaminant</a></div><div class=\"contaminant-description\"><p>Vanadium is a metal used in steels and other alloys. People are commonly exposed to vanadium in water and food. Excessive exposure can be toxic during pregnancy and childhood.</p></div><h2 class=\"levels-compare-h2\">How your levels compare</h2><div class=\"contaminant-chart\"><p>EWG Health Guideline</p><div class=\"contam-bar-wrapper flex\">\n",
       "<div class=\"contam-chart-bar ewg-health-guideline-chart\" style=\"width:90%\"></div>\n",
       "<span>21 ppb or less</span>\n",
       "</div><p>This Utility</p><div class=\"contam-bar-wrapper flex\">\n",
       "<div class=\"contam-chart-bar this-utility-chart\" style=\"width:4%\"></div>\n",
       "<span>1.04 ppb</span>\n",
       "</div><p>National Average</p><div class=\"contam-bar-wrapper flex\">\n",
       "<div class=\"contam-chart-bar\" style=\"width:7%\"></div>\n",
       "<span>1.59 ppb</span>\n",
       "</div><p>State Average</p><div class=\"contam-bar-wrapper flex\">\n",
       "<div class=\"contam-chart-bar\" style=\"width:21%\"></div>\n",
       "<span>4.86 ppb</span>\n",
       "</div></div><div class=\"contam-bar-wrapper flex\">\n",
       "<div class=\"contam-chart-bar mcl-chart-no-limit flex\">NO LEGAL LIMIT</div>\n",
       "</div><span>The state and national averages were calculated using the averages of the contaminant measurements for each utility in 2013-2019. </span><br/><span>ppb = parts per billion</span><div class=\"health-risks\"><h2>Health Risks</h2><p>The EWG Health Guideline of 21 ppb for vanadium was defined by the Environmental Protection Agency as a benchmark for testing under the Unregulated Contaminant Monitoring Rule program. This health guideline protects against change in blood chemistry. </p></div><div class=\"testing-summary-btn-wrapper\"><a href=\"system-contaminant.php?pws=CA0110018&amp;contamcode=1088\"><div class=\"primary-btn\">VIEW MORE TESTING DATA</div></a></div><div class=\"pollution-filtering-wrapper flex\"><div><h2>Pollution Sources</h2><div class=\"pollution-sources-modal-wrapper flex\"><div class=\"pollution-source-wrapper\"><img alt=\"industry icon\" class=\"pollution-source-img\" src=\"https://static.ewg.org/reports/2017/tap-water/img/pollution-source-industry.png\"/><p>Industry</p></div><div class=\"pollution-source-wrapper\"><img alt=\"naturally occuring icon\" class=\"pollution-source-img\" src=\"https://static.ewg.org/reports/2017/tap-water/img/pollution-source-naturally-occuring.png\"/><p>Naturally Occurring</p></div></div></div><div><h2>Filtering Options</h2><div class=\"pollution-sources-modal-wrapper flex\"><div class=\"pollution-source-wrapper\"><img alt=\"ion exchange icon\" class=\"pollution-source-img\" src=\"https://static.ewg.org/reports/2017/tap-water/img/IonExchange_Icon.png\"/><p>Ion Exchange</p></div></div></div></div> </div> </div> </section> </div></div><p>Includes chemicals detected in 2017-2019 for which annual utility averages were lower than an EWG-selected health guideline established by a federal or state public health authority; chemicals detected under the EPA's Unregulated Contaminant Monitoring Rule (UCMR 3) program in 2013 to 2015 (and subsequent testing when available), for which annual utility averages were lower than an EWG-selected health guideline established by a federal or state public health authority. </p></ul>\n",
       "<section class=\"contams-not-detected\">\n",
       "<hr/>\n",
       "<div class=\"contaminant-name\">\n",
       "<h2>Other Contaminants Tested</h2>\n",
       "<span></span>\n",
       "<span class=\"contaminant-close rotated\">✕</span>\n",
       "</div>\n",
       "<hr/>\n",
       "<div class=\"slide-toggle\">\n",
       "<p>Chemicals tested for but not detected from 2014 to 2019:</p>\n",
       "<p><a href=\"system-contaminant.php?pws=CA0110018&amp;contamcode=2981\">1,1,1-Trichloroethane\n",
       "</a>, <a href=\"system-contaminant.php?pws=CA0110018&amp;contamcode=2988\">1,1,2,2-Tetrachloroethane\n",
       "</a>, <a href=\"system-contaminant.php?pws=CA0110018&amp;contamcode=2985\">1,1,2-Trichloroethane\n",
       "</a>, <a href=\"system-contaminant.php?pws=CA0110018&amp;contamcode=2978\">1,1-Dichloroethane\n",
       "</a>, <a href=\"system-contaminant.php?pws=CA0110018&amp;contamcode=2977\">1,1-Dichloroethylene\n",
       "</a>, <a href=\"system-contaminant.php?pws=CA0110018&amp;contamcode=2414\">1,2,3-Trichloropropane\n",
       "</a>, <a href=\"system-contaminant.php?pws=CA0110018&amp;contamcode=2378\">1,2,4-Trichlorobenzene\n",
       "</a>, <a href=\"system-contaminant.php?pws=CA0110018&amp;contamcode=2980\">1,2-Dichloroethane\n",
       "</a>, <a href=\"system-contaminant.php?pws=CA0110018&amp;contamcode=2983\">1,2-Dichloropropane\n",
       "</a>, <a href=\"system-contaminant.php?pws=CA0110018&amp;contamcode=2413\">1,3-Dichloropropene\n",
       "</a>, <a href=\"system-contaminant.php?pws=CA0110018&amp;contamcode=1002\">Aluminum\n",
       "</a>, <a href=\"system-contaminant.php?pws=CA0110018&amp;contamcode=1074\">Antimony\n",
       "</a>, <a href=\"system-contaminant.php?pws=CA0110018&amp;contamcode=1005\">Arsenic\n",
       "</a>, <a href=\"system-contaminant.php?pws=CA0110018&amp;contamcode=2990\">Benzene\n",
       "</a>, <a href=\"system-contaminant.php?pws=CA0110018&amp;contamcode=1075\">Beryllium\n",
       "</a>, <a href=\"system-contaminant.php?pws=CA0110018&amp;contamcode=1015\">Cadmium\n",
       "</a>, <a href=\"system-contaminant.php?pws=CA0110018&amp;contamcode=2982\">Carbon tetrachloride\n",
       "</a>, <a href=\"system-contaminant.php?pws=CA0110018&amp;contamcode=1020\">Chromium (total)\n",
       "</a>, <a href=\"system-contaminant.php?pws=CA0110018&amp;contamcode=2380\">cis-1,2-Dichloroethylene\n",
       "</a>, <a href=\"system-contaminant.php?pws=CA0110018&amp;contamcode=2964\">Dichloromethane (methylene chloride)\n",
       "</a>, <a href=\"system-contaminant.php?pws=CA0110018&amp;contamcode=2992\">Ethylbenzene\n",
       "</a>, <a href=\"system-contaminant.php?pws=CA0110018&amp;contamcode=1032\">Manganese\n",
       "</a>, <a href=\"system-contaminant.php?pws=CA0110018&amp;contamcode=1035\">Mercury (inorganic)\n",
       "</a>, <a href=\"system-contaminant.php?pws=CA0110018&amp;contamcode=2989\">Monochlorobenzene (chlorobenzene)\n",
       "</a>, <a href=\"system-contaminant.php?pws=CA0110018&amp;contamcode=2251\">MTBE\n",
       "</a>, <a href=\"system-contaminant.php?pws=CA0110018&amp;contamcode=1041\">Nitrite\n",
       "</a>, <a href=\"system-contaminant.php?pws=CA0110018&amp;contamcode=2968\">o-Dichlorobenzene\n",
       "</a>, <a href=\"system-contaminant.php?pws=CA0110018&amp;contamcode=2969\">p-Dichlorobenzene\n",
       "</a>, <a href=\"system-contaminant.php?pws=CA0110018&amp;contamcode=A031\">Perchlorate\n",
       "</a>, <a href=\"system-contaminant.php?pws=CA0110018&amp;contamcode=4010\">Radium, combined (-226 &amp; -228)\n",
       "</a>, <a href=\"system-contaminant.php?pws=CA0110018&amp;contamcode=1045\">Selenium\n",
       "</a>, <a href=\"system-contaminant.php?pws=CA0110018&amp;contamcode=1050\">Silver\n",
       "</a>, <a href=\"system-contaminant.php?pws=CA0110018&amp;contamcode=2996\">Styrene\n",
       "</a>, <a href=\"system-contaminant.php?pws=CA0110018&amp;contamcode=2987\">Tetrachloroethylene (perchloroethylene)\n",
       "</a>, <a href=\"system-contaminant.php?pws=CA0110018&amp;contamcode=1085\">Thallium\n",
       "</a>, <a href=\"system-contaminant.php?pws=CA0110018&amp;contamcode=2991\">Toluene\n",
       "</a>, <a href=\"system-contaminant.php?pws=CA0110018&amp;contamcode=2979\">trans-1,2-Dichloroethylene\n",
       "</a>, <a href=\"system-contaminant.php?pws=CA0110018&amp;contamcode=2984\">Trichloroethylene\n",
       "</a>, <a href=\"system-contaminant.php?pws=CA0110018&amp;contamcode=2218\">Trichlorofluoromethane\n",
       "</a>, <a href=\"system-contaminant.php?pws=CA0110018&amp;contamcode=2904\">Trichlorotrifluoroethane\n",
       "</a>, <a href=\"system-contaminant.php?pws=CA0110018&amp;contamcode=2976\">Vinyl chloride\n",
       "</a>, <a href=\"system-contaminant.php?pws=CA0110018&amp;contamcode=2955\">Xylenes (total)\n",
       "</a></p>\n",
       "</div>\n",
       "</section>\n",
       "<a class=\"anchor\" id=\"EPAdata\"></a>\n",
       "<section class=\"water-utility-compliance flex\">\n",
       "<div class=\"water-utility-compliance-inner-wrapper\">\n",
       "<h2>Sfpuc-pleasanton Wells compliance with legally mandated federal standards:</h2>\n",
       "<ul>\n",
       "<li>From April 2019 to March 2021, Sfpuc-pleasanton Wells\n",
       "complied with health-based drinking water standards.</li>\n",
       "</ul>\n",
       "</div>\n",
       "<div class=\"epa-source-wrapper\">\n",
       "<div class=\"epa-source\">\n",
       "<p>Information in this section on Sfpuc-pleasanton Wells comes from the U.S. EPA Enforcement and Compliance History Online database (ECHO).</p>\n",
       "<a class=\"btn-epa-source\" href=\"https://echo.epa.gov/detailed-facility-report?fid=CA0110018&amp;sys=SDWIS\" target=\"_blank\">LEARN MORE ABOUT THIS UTILITY</a>\n",
       "</div>\n",
       "</div>\n",
       "</section>\n",
       "<section class=\"filter-table-wrapper\"><h2>Water Filters That Can Reduce Contaminant Levels</h2><table class=\"filter-table\"><thead><tr><td>Contaminant</td><td><span class=\"mobile-show-md\">Activated Carbon</span><img alt=\"activated carbon\" class=\"carbon mobile-hide-md\" src=\"https://static.ewg.org/reports/2017/tap-water/img/table-icon-activated-carbon.svg\"/></td><td><span class=\"mobile-show-md\">Reverse Osmosis</span><img alt=\"reverse osmosis\" class=\"ro mobile-hide-md\" src=\"https://static.ewg.org/reports/2017/tap-water/img/table-icon-reverse-osmosis.svg\"/></td><td><span class=\"mobile-show-md\">Ion Exchange</span><img alt=\"ion exchange\" class=\"ion mobile-hide-md\" src=\"https://static.ewg.org/reports/2017/tap-water/img/table-icon-ion-exchange.svg\"/></td></tr></thead><tbody><tr class=\"filter-table-subheader\"><td colspan=\"4\">CONTAMINANTS ABOVE<br/>HEALTH GUIDELINES</td></tr><tr><td>Chromium (hexavalent)</td><td></td><td>✔</td><td>✔</td></tr><tr><td>Nitrate</td><td></td><td>✔</td><td>✔</td></tr><tr><td>Nitrate &amp; nitrite</td><td></td><td>✔</td><td>✔</td></tr><tr><td>Uranium, combined (pCi/L)</td><td></td><td>✔</td><td>✔</td></tr><tr class=\"filter-table-subheader\"><td colspan=\"4\">OTHER CONTAMINANTS<br/>DETECTED</td></tr><tr></tr><tr><td>Barium</td><td></td><td>✔</td><td>✔</td></tr><tr><td>Bromide</td><td>✔</td><td>✔</td><td></td></tr><tr><td>Chlorate</td><td></td><td></td><td></td></tr><tr><td>Fluoride</td><td></td><td>✔</td><td></td></tr><tr><td>Molybdenum</td><td></td><td>✔</td><td>✔</td></tr><tr><td>Vanadium</td><td></td><td></td><td>✔</td></tr></tbody></table></section>\n",
       "<section class=\"take-action-btns-wrapper\">\n",
       "<h2>Take Action</h2>\n",
       "<div class=\"take-action-btns-internal-wrapper flex\">\n",
       "<div class=\"take-action-official\">\n",
       "<h3>Contact Your Local Official</h3>\n",
       "<p>One of the best ways to push for cleaner water is to hold accountable the elected officials who have a say in water quality – from city hall and the state legislature to Congress all the way to the Oval Office – by asking questions and demanding answers.</p>\n",
       "<a class=\"btn-primary\" href=\"contact-local-government.php\">LEARN MORE</a>\n",
       "</div>\n",
       "<div class=\"take-action-filter\">\n",
       "<h3>Filter Out Contaminants</h3>\n",
       "<p>Check out our recommendations for filters to protect your water against the detected contaminants.</p>\n",
       "<a class=\"btn-primary\" href=\"water-filter-guide.php#findfilter\">EWG’S WATER FILTER GUIDE</a>\n",
       "</div>\n",
       "</div>\n",
       "</section>\n",
       "<section class=\"footer-bar flex\">\n",
       "<div class=\"sidebar-tile\">\n",
       "<a href=\"https://act.ewg.org/onlineactions/mWD1Z5Zf-UCQ4aGbLDR5mg2\">\n",
       "<img alt=\"Get the guide\" src=\"https://static.ewg.org/reports/2017/tap-water/img/TBDB_GetGuide_Ad.jpg\"/>\n",
       "<div class=\"tile-overlay\"></div>\n",
       "<h2>Get the guide</h2>\n",
       "</a>\n",
       "</div>\n",
       "<div class=\"sidebar-tile\">\n",
       "<a data-lity=\"\" href=\"//www.youtube.com/embed/Hs__Layx9w0\">\n",
       "<img alt=\"play video\" src=\"https://static.ewg.org/reports/2017/tap-water/img/EWG_TWDB_VideoAD_C02.jpg\"/>\n",
       "</a>\n",
       "</div>\n",
       "<div class=\"sidebar-tile\">\n",
       "<a href=\"https://www.ewg.org/research/introducing-ewg-standards-benchmarks-protect-public-health\">\n",
       "<img alt=\"Glass being filled up in kitchen sink\" src=\"https://static.ewg.org/reports/2017/tap-water/img/EWG_TWStandards_UtilityPgCard01.jpg\"/>\n",
       "<div class=\"tile-overlay\"></div>\n",
       "<h2>EWG drinking water standards</h2>\n",
       "</a>\n",
       "</div>\n",
       "<div class=\"sidebar-tile\">\n",
       "<a href=\"FAQ.php\">\n",
       "<img alt=\"picture of civic meeting\" src=\"https://static.ewg.org/reports/2017/tap-water/img/TWDB_ConsumerResources_FAQs_Sidebar.jpg\"/>\n",
       "<div class=\"tile-overlay\"></div>\n",
       "<h2>Have a question?</h2>\n",
       "</a>\n",
       "</div>\n",
       "</section>\n",
       "</main>\n",
       "</div>\n",
       "<footer>\n",
       "<section class=\"take-action ea-wrapper\">\n",
       "<script crossorigin=\"anonymous\" src=\"https://d3rse9xjbp8270.cloudfront.net/at.js\" type=\"text/javascript\"></script>\n",
       "<div class=\"ngp-form\" data-databag=\"everybody\" data-databag-endpoint=\"https://profile.ngpvan.com\" data-fastaction-endpoint=\"https://fastaction.ngpvan.com\" data-fastaction-nologin=\"true\" data-form-url=\"https://actions.everyaction.com/v1/Forms/yQM7Yf-CRUubddZ6LeH_VA2\" data-inline-errors=\"true\" data-mobile-autofocus=\"false\">\n",
       "</div>\n",
       "</section>\n",
       "<p>EWG’s Tap Water Database is provided solely for your personal, non-commercial use. You may not copy, reproduce, republish or distribute information from EWG’s Tap Water Database without EWG’s prior written permission. For information about licensing EWG data and analyses, contact permissionrequests[at]ewg.org.<br> </br></p>\n",
       "<section class=\"contact-social\">\n",
       "<div class=\"contact\">\n",
       "<img alt=\"EWG Logo\" class=\"contact-logo\" src=\"https://static.ewg.org/reports/2017/tap-water/img/EWG_Logo_White.png\"/>\n",
       "<ul>\n",
       "<li><span>HEADQUARTERS</span> 1250 I Street NW, Suite 1000 | Washington, DC 20005 | (202) 667-6982</li>\n",
       "<li><span>CALIFORNIA OFFICE</span> 500 Washington St. Suite 400 | San Francisco, CA 94111</li>\n",
       "<li><span>MIDWEST OFFICE</span> 111 3rd Avenue South, Suite 240 | Minneapolis, MN 55401</li>\n",
       "<li><span>SACRAMENTO OFFICE</span> 910 K Street, Suite 300 | Sacramento, CA 95814</li>\n",
       "</ul>\n",
       "<p>Environmental Working Group is a 501(c)(3) nonprofit corporation, EIN 52-2148600.<br>\n",
       "Copyright © 2022. Environmental Working Group. All Rights Reserved.<br>\n",
       "<a href=\"https://www.ewg.org/support-our-work/ways-to-donate/stay-touch\" onclick=\"zE.activate({hideOnClose: true}); return false;\" target=\"_blank\">Contact Us</a> |\n",
       "<a href=\"https://www.ewg.org/about/privacy\" target=\"_blank\">Privacy Policy</a> |\n",
       "<a href=\"https://www.ewg.org/disclaimer\" target=\"_blank\">Legal Disclaimer</a> |\n",
       "<a href=\"https://www.ewg.org/reprintpermission\" target=\"_blank\">Reprint Permission Information</a>\n",
       "</br></br></p>\n",
       "</div>\n",
       "<div class=\"social\">\n",
       "<span>Connect with EWG</span>\n",
       "<ul>\n",
       "<a href=\"https://www.ewg.org\" target=\"_blank\"><li><img alt=\"EWG Logo\" class=\"header-logo-img\" src=\"https://static.ewg.org/reports/2017/tap-water/img/EWG-logo-white-400.png\"/>EWG Home</li></a>\n",
       "<a href=\"https://www.facebook.com/ewg.org\" target=\"_blank\"><li><i aria-hidden=\"true\" class=\"fa fa-facebook fa-2x fa-fw\" rel=\"noopener\"></i>EWG on Facebook</li></a>\n",
       "<a href=\"https://twitter.com/ewg\" target=\"_blank\"><li><i aria-hidden=\"true\" class=\"fa fa-twitter fa-2x fa-fw\" rel=\"noopener\"></i>EWG on Twitter</li></a>\n",
       "<a href=\"https://www.youtube.com/user/EnvironmentalWG\" target=\"_blank\"><li><i aria-hidden=\"true\" class=\"fa fa-youtube fa-2x fa-fw\" rel=\"noopener\"></i>EWG on Youtube</li></a>\n",
       "<a href=\"https://www.ewg.org/support-our-work/ways-to-donate/stay-touch\" onclick=\"zE.activate({hideOnClose: true}); return false;\" target=\"_blank\"><li><i aria-hidden=\"true\" class=\"fa fa-envelope fa-2x fa-fw\" rel=\"noopener\"></i>Contact EWG</li></a>\n",
       "<a href=\"https://www.amazon.com/?_encoding=UTF8&amp;camp=1789&amp;creative=390957&amp;linkCode=ur2&amp;tag=wwwewgorg-20\" target=\"_blank\"><li><i aria-hidden=\"true\" class=\"fa fa-amazon fa-2x fa-fw\" rel=\"noopener\"></i>Support EWG by Shopping at Amazon</li></a>\n",
       "</ul>\n",
       "</div>\n",
       "</section>\n",
       "</footer>\n",
       "<script src=\"js/vendor/jquery/dist/jquery.min.js\"></script>\n",
       "<script charset=\"utf-8\" src=\"js/d3/d3.min.js\"></script>\n",
       "<script src=\"js/c3/c3.min.js\"></script>\n",
       "<script src=\"js/lity.min.js\"></script>\n",
       "<script src=\"slick/slick.min.js\"></script>\n",
       "<script src=\"js/list.min.js\"></script>\n",
       "<script src=\"js/jquery.nice-select.min.js\"></script>\n",
       "<script src=\"js/app.js\"></script>\n",
       "<script type=\"text/javascript\">\n",
       "\tvar _gaq = _gaq || [];\n",
       "\n",
       "    _gaq.push(\n",
       "      ['_setAccount', 'UA-296149-1'],\n",
       "      ['_setDomainName', '.ewg.org'],\n",
       "      ['_trackPageview'],\n",
       "      ['rollup._setAccount', 'UA-296149-22'],\n",
       "      ['rollup._setDomainName', '.ewg.org'],\n",
       "      ['rollup._trackPageview']\n",
       "    );\n",
       "\n",
       "    (function() {\n",
       "      var ga = document.createElement('script'); ga.type = 'text/javascript'; ga.async = true;\n",
       "      ga.src = ('https:' == document.location.protocol ? 'https://' : 'http://') + 'stats.g.doubleclick.net/dc.js';\n",
       "      var s = document.getElementsByTagName('script')[0]; s.parentNode.insertBefore(ga, s);\n",
       "    })();\n",
       "</script>\n",
       "<script type=\"text/javascript\">\n",
       "var addthis_config = {\n",
       "\t\"data_track_addressbar\": false,\n",
       "\t\"data_track_clickback\": false,\n",
       "\t\"ui_508_compliant\": false,\n",
       "\t\"ui_click\": false,\n",
       "\t\"ui_use_css\": true,\n",
       "\t\"ui_language\": \"en\",\n",
       "\t\"data_ga_property\": \"UA-296149-22\",\n",
       "\t\"data_ga_social\": true,\n",
       "\turl_transforms: {\n",
       "\t\tclean: true\n",
       "\t}\n",
       "}\n",
       "</script>\n",
       "<script type=\"text/javascript\">\n",
       "var addthis_share = addthis_share || {}\n",
       "addthis_share = {\n",
       "\tpassthrough : {\n",
       "\t\ttwitter: {\n",
       "\t\t\ttext: \"EWG's Tap Water Database: What's in Your Drinking Water? | @ewg | #WaterSafety \",\n",
       "\t\t}\n",
       "\t},\n",
       "\turl_transforms : {\n",
       "\t\tshorten: {\n",
       "\t\t\ttwitter: \"bitly\",\n",
       "\t\t\tfacebook: \"bitly\"\n",
       "\t} },\n",
       "\tshorteners : { bitly : {} }\n",
       "\n",
       "}\n",
       "</script>\n",
       "<script type=\"text/javascript\">\n",
       "  window.zESettings = {\n",
       "    webWidget: {\n",
       "      color: { theme: '#48a2dc' },\n",
       "      zIndex: 10002009,\n",
       "      contactForm: { attachments: false },\n",
       "      chat: {\n",
       "        tags: ['tapwater']\n",
       "      }\n",
       "    }\n",
       "  };\n",
       "</script>\n",
       "<script id=\"ze-snippet\" src=\"https://static.zdassets.com/ekr/snippet.js?key=ddae71b0-53e4-4646-9859-d51edea50265\"> </script>\n",
       "<script type=\"text/javascript\">\n",
       "  zE('webWidget', 'hide');\n",
       "</script>\n",
       "<script async=\"\" src=\"//s7.addthis.com/js/300/addthis_widget.js#pubid=ra-54611daa33276138\" type=\"text/javascript\"></script>\n",
       "<script type=\"text/javascript\">(function(){window['__CF$cv$params']={r:'6ec9e80529ebf339',m:'0hg5Bfwv1WtWIPfNNlfaTrw4jd3DZeXnqtnUYNTF9tk-1647396143-0-AVzkWLKgHtfyOPU+FSlPuSScBuBBTCpIHe+hwgNGzQGRK5p3E9rrzMnkRTCLGBraJwZVsMuqtOmrDTKEX3eqoVFx49r40Qm2FAeonxR8jgG35ZNF3uRzHeOoqNZSm2x4C22HVp3kL5q2ggwESb1D8r4e2qGYsKDvSO/G/Hu6QrXC',s:[0xa9e2f4863c,0xa85744d2a9],}})();</script><script crossorigin=\"anonymous\" data-cf-beacon='{\"rayId\":\"6ec9e80529ebf339\",\"token\":\"46b4951c6a244ba58ebd60d09508ed3f\",\"version\":\"2021.12.0\",\"si\":100}' defer=\"\" integrity=\"sha512-Gi7xpJR8tSkrpF7aordPZQlW2DLtzUlZcumS8dMQjwDHEnw9I7ZLyiOj/6tZStRBGtGgN6ceN6cMH8z7etPGlw==\" src=\"https://static.cloudflareinsights.com/beacon.min.js/v652eace1692a40cfa3763df669d7439c1639079717194\"></script>\n",
       "</body>\n",
       "</html>"
      ]
     },
     "execution_count": 28,
     "metadata": {},
     "output_type": "execute_result"
    }
   ],
   "source": [
    "water_company"
   ]
  },
  {
   "cell_type": "code",
   "execution_count": 29,
   "id": "2302150f",
   "metadata": {},
   "outputs": [
    {
     "data": {
      "text/plain": [
       "'Sfpuc-pleasanton Wells'"
      ]
     },
     "execution_count": 29,
     "metadata": {},
     "output_type": "execute_result"
    }
   ],
   "source": [
    "str(water_company.title).split(\"| \")[1].replace(\"</title>\", \"\")"
   ]
  },
  {
   "cell_type": "code",
   "execution_count": 32,
   "id": "4bb9d613",
   "metadata": {},
   "outputs": [
    {
     "data": {
      "text/plain": [
       "'1'"
      ]
     },
     "execution_count": 32,
     "metadata": {},
     "output_type": "execute_result"
    }
   ],
   "source": [
    "served_people_str = str(water_company.find_all(\"ul\", class_=\"served-ul\")[0]).split(\"Serves:</span> \")[1].split(\"</li>\")[0]\n",
    "served_people_str"
   ]
  },
  {
   "cell_type": "code",
   "execution_count": 30,
   "id": "117b266d",
   "metadata": {},
   "outputs": [
    {
     "data": {
      "text/plain": [
       "'Alameda County'"
      ]
     },
     "execution_count": 30,
     "metadata": {},
     "output_type": "execute_result"
    }
   ],
   "source": [
    "str(soup.find_all(\"h2\")[0]).replace(\"<h2>Systems serving \", \"\").replace(\", California</h2>\", \"\")"
   ]
  },
  {
   "cell_type": "code",
   "execution_count": 19,
   "id": "89b1bbd6",
   "metadata": {},
   "outputs": [],
   "source": [
    "contam_values = water_company.find_all(\"div\", class_=\"contaminant-name\")"
   ]
  },
  {
   "cell_type": "code",
   "execution_count": 20,
   "id": "7570a9f0",
   "metadata": {},
   "outputs": [
    {
     "data": {
      "text/plain": [
       "[<div class=\"contaminant-name\"> <h3>Chromium (hexavalent)</h3><span class=\"potentital-effect\"> Potential Effect: cancer</span><span class=\"detect-times-greater-than\">178x</span><span class=\"potentital-effect\"> EWG'S HEALTH GUIDELINE</span><div class=\"detect-levels-overview flex\"><div class=\"flex-sb mb10\"><span>THIS UTILITY</span><span>3.55 ppb</span></div><div class=\"flex-sb mb10\"><span>EWG HEALTH GUIDELINE</span><span>0.02 ppb</span></div><div><span class=\"no-legal\">NO LEGAL LIMIT</span></div></div><a class=\"btn-contam-details\">DETAILS</a></div>,\n",
       " <div class=\"contaminant-name\"> <h3>Nitrate</h3><span class=\"potentital-effect\"> Potential Effect: cancer</span><span class=\"detect-times-greater-than\">18x</span><span class=\"potentital-effect\"> EWG'S HEALTH GUIDELINE</span><div class=\"detect-levels-overview flex\"><div class=\"flex-sb mb10\"><span>THIS UTILITY</span><span>2.46 ppm</span></div><div class=\"flex-sb mb10\"><span>EWG HEALTH GUIDELINE</span><span>0.14 ppm</span></div><div class=\"flex-sb\"><span>LEGAL LIMIT</span><span>10 ppm</span></div></div><a class=\"btn-contam-details\">DETAILS</a></div>,\n",
       " <div class=\"contaminant-name\"> <h3>Nitrate and nitrite</h3><span class=\"potentital-effect\"> Potential Effect: cancer</span><span class=\"detect-times-greater-than\">18x</span><span class=\"potentital-effect\"> EWG'S HEALTH GUIDELINE</span><div class=\"detect-levels-overview flex\"><div class=\"flex-sb mb10\"><span>THIS UTILITY</span><span>2.46 ppm</span></div><div class=\"flex-sb mb10\"><span>EWG HEALTH GUIDELINE</span><span>0.14 ppm</span></div><div class=\"flex-sb\"><span>LEGAL LIMIT</span><span>10 ppm</span></div></div><a class=\"btn-contam-details\">DETAILS</a></div>,\n",
       " <div class=\"contaminant-name\"> <h3>Uranium</h3><span class=\"potentital-effect\"> Potential Effect: cancer</span><span class=\"detect-times-greater-than\">15x</span><span class=\"potentital-effect\"> EWG'S HEALTH GUIDELINE</span><div class=\"detect-levels-overview flex\"><div class=\"flex-sb mb10\"><span>THIS UTILITY</span><span>6.50 pCi/L</span></div><div class=\"flex-sb mb10\"><span>EWG HEALTH GUIDELINE</span><span>0.43 pCi/L</span></div><div class=\"flex-sb\"><span>LEGAL LIMIT</span><span>20 pCi/L</span></div></div><a class=\"btn-contam-details\">DETAILS</a></div>,\n",
       " <div class=\"contaminant-name\"> <h3>Barium</h3> <span></span><div class=\"detect-levels-overview flex\"><div class=\"flex-sb mb10\"><span>THIS UTILITY</span><span>150.2 ppb</span></div><div class=\"flex-sb mb10\"><span>EWG HEALTH GUIDELINE</span><span>700 ppb</span></div><div class=\"flex-sb\"><span>LEGAL LIMIT</span><span>2,000 ppb</span></div></div><a class=\"btn-contam-details\">DETAILS</a></div>,\n",
       " <div class=\"contaminant-name\"> <h3>Bromide</h3> <span></span><div class=\"detect-levels-overview flex\"><div class=\"flex-sb mb10\"><span>THIS UTILITY</span><span>364.4 ppb</span></div><div class=\"mb10\"><span class=\"no-legal\">NO EWG HEALTH GUIDELINE</span></div><div><span class=\"no-legal\">NO LEGAL LIMIT</span></div></div><a class=\"btn-contam-details\">DETAILS</a></div>,\n",
       " <div class=\"contaminant-name\"> <h3>Chlorate</h3> <span></span><div class=\"detect-levels-overview flex\"><div class=\"flex-sb mb10\"><span>THIS UTILITY</span><span>80.5 ppb</span></div><div class=\"flex-sb mb10\"><span>EWG HEALTH GUIDELINE</span><span>210 ppb</span></div><div><span class=\"no-legal\">NO LEGAL LIMIT</span></div></div><a class=\"btn-contam-details\">DETAILS</a></div>,\n",
       " <div class=\"contaminant-name\"> <h3>Fluoride</h3> <span></span><div class=\"detect-levels-overview flex\"><div class=\"flex-sb mb10\"><span>THIS UTILITY</span><span>0.124 ppm</span></div><div class=\"mb10\"><span class=\"no-legal\">NO EWG HEALTH GUIDELINE</span></div><div class=\"flex-sb\"><span>LEGAL LIMIT</span><span>4 ppm</span></div></div><a class=\"btn-contam-details\">DETAILS</a></div>,\n",
       " <div class=\"contaminant-name\"> <h3>Molybdenum</h3> <span></span><div class=\"detect-levels-overview flex\"><div class=\"flex-sb mb10\"><span>THIS UTILITY</span><span>0.683 ppb</span></div><div class=\"flex-sb mb10\"><span>EWG HEALTH GUIDELINE</span><span>40 ppb</span></div><div><span class=\"no-legal\">NO LEGAL LIMIT</span></div></div><a class=\"btn-contam-details\">DETAILS</a></div>,\n",
       " <div class=\"contaminant-name\"> <h3>Vanadium</h3> <span></span><div class=\"detect-levels-overview flex\"><div class=\"flex-sb mb10\"><span>THIS UTILITY</span><span>1.04 ppb</span></div><div class=\"flex-sb mb10\"><span>EWG HEALTH GUIDELINE</span><span>21 ppb</span></div><div><span class=\"no-legal\">NO LEGAL LIMIT</span></div></div><a class=\"btn-contam-details\">DETAILS</a></div>,\n",
       " <div class=\"contaminant-name\">\n",
       " <h2>Other Contaminants Tested</h2>\n",
       " <span></span>\n",
       " <span class=\"contaminant-close rotated\">✕</span>\n",
       " </div>]"
      ]
     },
     "execution_count": 20,
     "metadata": {},
     "output_type": "execute_result"
    }
   ],
   "source": [
    "contam_values"
   ]
  },
  {
   "cell_type": "code",
   "execution_count": 83,
   "id": "e9fcf881",
   "metadata": {},
   "outputs": [],
   "source": [
    "contams = water_company.find_all(\"h3\")"
   ]
  },
  {
   "cell_type": "code",
   "execution_count": 86,
   "id": "efb58ade",
   "metadata": {},
   "outputs": [],
   "source": [
    "things = contams[2:-2]"
   ]
  },
  {
   "cell_type": "code",
   "execution_count": 85,
   "id": "1c43a07f",
   "metadata": {},
   "outputs": [
    {
     "name": "stdout",
     "output_type": "stream",
     "text": [
      "32.6\n",
      "35.5\n",
      "0.842\n",
      "31.8\n",
      "THIS\n",
      "THIS\n",
      "THIS\n",
      "THIS\n",
      "THIS\n"
     ]
    },
    {
     "data": {
      "text/plain": [
       "['32.6', '35.5', '0.842', '31.8', '21.7', '0.0797', '16.7', '0.841', '0.661']"
      ]
     },
     "execution_count": 85,
     "metadata": {},
     "output_type": "execute_result"
    }
   ],
   "source": [
    "temp_contam = []\n",
    "for thing in contam_values:\n",
    "    if str(thing) != '<div class=\"contaminant-name\">\\n<h2>Other Contaminants Tested</h2>\\n<span></span>\\n<span class=\"contaminant-close rotated\">✕</span>\\n</div>':\n",
    "        value = str(thing).split(\"<span>\")[2].split(\"<\")[0].split(\" \")[0]\n",
    "        print(value)\n",
    "        if value == \"THIS\":\n",
    "            value = str(thing).split(\"<span>\")[3].split(\"<\")[0].split(\" \")[0]\n",
    "        temp_contam.append(value)\n",
    "temp_contam"
   ]
  },
  {
   "cell_type": "code",
   "execution_count": 87,
   "id": "de362241",
   "metadata": {},
   "outputs": [
    {
     "data": {
      "text/plain": [
       "[<h3>Haloacetic acids (HAA5)†</h3>,\n",
       " <h3>Haloacetic acids (HAA5)</h3>,\n",
       " <h3>Haloacetic acids (HAA9)†</h3>,\n",
       " <h3>Haloacetic acids (HAA9)</h3>,\n",
       " <h3>Nitrate</h3>,\n",
       " <h3>Nitrate</h3>,\n",
       " <h3>Total trihalomethanes (TTHMs)†</h3>,\n",
       " <h3>Total trihalomethanes (TTHMs)</h3>,\n",
       " <h3>Aluminum</h3>,\n",
       " <h3>Aluminum</h3>,\n",
       " <h3>Atrazine</h3>,\n",
       " <h3>Atrazine</h3>,\n",
       " <h3>Barium</h3>,\n",
       " <h3>Barium</h3>,\n",
       " <h3>Fluoride</h3>,\n",
       " <h3>Fluoride</h3>,\n",
       " <h3>Manganese</h3>,\n",
       " <h3>Manganese</h3>]"
      ]
     },
     "execution_count": 87,
     "metadata": {},
     "output_type": "execute_result"
    }
   ],
   "source": [
    "things"
   ]
  },
  {
   "cell_type": "code",
   "execution_count": 104,
   "id": "ba7f4c7d",
   "metadata": {},
   "outputs": [
    {
     "data": {
      "text/plain": [
       "'<h3>Nitrate</h3>'"
      ]
     },
     "execution_count": 104,
     "metadata": {},
     "output_type": "execute_result"
    }
   ],
   "source": [
    "contam"
   ]
  },
  {
   "cell_type": "code",
   "execution_count": 105,
   "id": "bc99a290",
   "metadata": {},
   "outputs": [
    {
     "data": {
      "text/plain": [
       "[<h3>Haloacetic acids (HAA5)†</h3>,\n",
       " <h3>Haloacetic acids (HAA5)</h3>,\n",
       " <h3>Haloacetic acids (HAA9)†</h3>,\n",
       " <h3>Haloacetic acids (HAA9)</h3>,\n",
       " <h3>Nitrate</h3>,\n",
       " <h3>Nitrate</h3>,\n",
       " <h3>Total trihalomethanes (TTHMs)†</h3>,\n",
       " <h3>Total trihalomethanes (TTHMs)</h3>,\n",
       " <h3>Aluminum</h3>,\n",
       " <h3>Aluminum</h3>,\n",
       " <h3>Atrazine</h3>,\n",
       " <h3>Atrazine</h3>,\n",
       " <h3>Barium</h3>,\n",
       " <h3>Barium</h3>,\n",
       " <h3>Fluoride</h3>,\n",
       " <h3>Fluoride</h3>,\n",
       " <h3>Manganese</h3>,\n",
       " <h3>Manganese</h3>]"
      ]
     },
     "execution_count": 105,
     "metadata": {},
     "output_type": "execute_result"
    }
   ],
   "source": [
    "things"
   ]
  },
  {
   "cell_type": "code",
   "execution_count": 108,
   "id": "13231c2e",
   "metadata": {},
   "outputs": [
    {
     "data": {
      "text/plain": [
       "['32.6', '35.5', '0.842', '31.8', '21.7', '0.0797', '16.7', '0.841', '0.661']"
      ]
     },
     "execution_count": 108,
     "metadata": {},
     "output_type": "execute_result"
    }
   ],
   "source": [
    "temp_contam"
   ]
  },
  {
   "cell_type": "code",
   "execution_count": 107,
   "id": "96dfb5af",
   "metadata": {},
   "outputs": [
    {
     "name": "stdout",
     "output_type": "stream",
     "text": [
      "-1\n",
      "0.789\n",
      "<h3>Arsenic</h3>\n",
      "1\n",
      "0\n",
      "32.6\n",
      "<h3>Haloacetic acids (HAA5)</h3>\n",
      "3\n",
      "1\n",
      "35.5\n",
      "<h3>Haloacetic acids (HAA9)</h3>\n",
      "-1\n",
      "35.5\n",
      "<h3>Radium, combined (-226 &amp; -228)</h3>\n",
      "7\n",
      "3\n",
      "31.8\n",
      "<h3>Total trihalomethanes (TTHMs)</h3>\n",
      "4\n",
      "2\n",
      "0.842\n",
      "<h3>Nitrate</h3>\n"
     ]
    }
   ],
   "source": [
    " for j, contam in enumerate(contam_list):\n",
    "    idx = indexofcontam(things, contam)\n",
    "    print(idx)\n",
    "    if idx != -1:\n",
    "        idx = math.floor(idx/2)\n",
    "        print(idx)\n",
    "        contam_value = temp_contam[idx]\n",
    "#     else:\n",
    "#         if len(other_det_contam) > 0:\n",
    "#             other_det_contam = str(other_det_contam[0]).split(\">\")\n",
    "#             idx = other_det_contam.index(other_dets_contam_list[j]) if other_dets_contam_list[j] in other_det_contam else None\n",
    "            \n",
    "#     print(idx)\n",
    "    print(contam_value)\n",
    "    print(contam)"
   ]
  },
  {
   "cell_type": "code",
   "execution_count": 37,
   "id": "5142602e",
   "metadata": {},
   "outputs": [
    {
     "ename": "IndexError",
     "evalue": "list index out of range",
     "output_type": "error",
     "traceback": [
      "\u001b[0;31m---------------------------------------------------------------------------\u001b[0m",
      "\u001b[0;31mIndexError\u001b[0m                                Traceback (most recent call last)",
      "\u001b[0;32m/tmp/ipykernel_20636/1231779154.py\u001b[0m in \u001b[0;36m<module>\u001b[0;34m\u001b[0m\n\u001b[0;32m----> 1\u001b[0;31m \u001b[0mstr\u001b[0m\u001b[0;34m(\u001b[0m\u001b[0mwater_company\u001b[0m\u001b[0;34m.\u001b[0m\u001b[0mfind_all\u001b[0m\u001b[0;34m(\u001b[0m\u001b[0;34m\"ul\"\u001b[0m\u001b[0;34m,\u001b[0m \u001b[0mclass_\u001b[0m\u001b[0;34m=\u001b[0m\u001b[0;34m\"served-ul\"\u001b[0m\u001b[0;34m)\u001b[0m\u001b[0;34m[\u001b[0m\u001b[0;36m0\u001b[0m\u001b[0;34m]\u001b[0m\u001b[0;34m)\u001b[0m\u001b[0;34m.\u001b[0m\u001b[0msplit\u001b[0m\u001b[0;34m(\u001b[0m\u001b[0;34m\"Source:</span> \"\u001b[0m\u001b[0;34m)\u001b[0m\u001b[0;34m[\u001b[0m\u001b[0;36m1\u001b[0m\u001b[0;34m]\u001b[0m\u001b[0;34m.\u001b[0m\u001b[0msplit\u001b[0m\u001b[0;34m(\u001b[0m\u001b[0;34m\"</li>\"\u001b[0m\u001b[0;34m)\u001b[0m\u001b[0;34m[\u001b[0m\u001b[0;36m0\u001b[0m\u001b[0;34m]\u001b[0m\u001b[0;34m.\u001b[0m\u001b[0mlower\u001b[0m\u001b[0;34m(\u001b[0m\u001b[0;34m)\u001b[0m\u001b[0;34m\u001b[0m\u001b[0;34m\u001b[0m\u001b[0m\n\u001b[0m",
      "\u001b[0;31mIndexError\u001b[0m: list index out of range"
     ]
    }
   ],
   "source": [
    "str(water_company.find_all(\"ul\", class_=\"served-ul\")[0]).split(\"Source:</span> \")[1].split(\"</li>\")[0].lower()"
   ]
  },
  {
   "cell_type": "code",
   "execution_count": null,
   "id": "6bc0b2ed",
   "metadata": {},
   "outputs": [],
   "source": [
    "str(water_company.find_all(\"ul\", class_=\"served-ul\")[0]).split(\"Serves:</span> \")[1].split(\"</li>\")[0]"
   ]
  },
  {
   "cell_type": "code",
   "execution_count": null,
   "id": "9f3784a7",
   "metadata": {},
   "outputs": [],
   "source": [
    "str(water_company.title).split(\"|\")[1].strip().strip(\"</title>\")"
   ]
  },
  {
   "cell_type": "code",
   "execution_count": null,
   "id": "bf6edcfb",
   "metadata": {},
   "outputs": [],
   "source": [
    "results = water_company.find_all(\"div\", class_=\"slide-toggle\")"
   ]
  },
  {
   "cell_type": "code",
   "execution_count": null,
   "id": "2cf2ba36",
   "metadata": {},
   "outputs": [],
   "source": [
    "print(str(results[0]).split(\">\"))"
   ]
  },
  {
   "cell_type": "code",
   "execution_count": 83,
   "id": "47f2743a",
   "metadata": {},
   "outputs": [],
   "source": [
    "temp_results = []\n",
    "for result in results:\n",
    "    temp_results.append(str(result))\n",
    "results = temp_results"
   ]
  },
  {
   "cell_type": "code",
   "execution_count": 90,
   "id": "d41d68dc",
   "metadata": {},
   "outputs": [
    {
     "data": {
      "text/plain": [
       "0"
      ]
     },
     "execution_count": 90,
     "metadata": {},
     "output_type": "execute_result"
    }
   ],
   "source": [
    "math.floor(results.index(contam_list[-1]) / 2) - 1"
   ]
  },
  {
   "cell_type": "code",
   "execution_count": 99,
   "id": "39e1c429",
   "metadata": {},
   "outputs": [],
   "source": [
    "values = water_company_html.find_all(\"div\", class_=\"contam-bar-wrapper flex\")"
   ]
  },
  {
   "cell_type": "code",
   "execution_count": 44,
   "id": "4e0d466b",
   "metadata": {},
   "outputs": [],
   "source": [
    "hi = str(values[0]).split(\">\")"
   ]
  },
  {
   "cell_type": "code",
   "execution_count": 100,
   "id": "29422813",
   "metadata": {},
   "outputs": [
    {
     "data": {
      "text/plain": [
       "[<div class=\"contam-bar-wrapper flex\">\n",
       " <div class=\"contam-chart-bar ewg-health-guideline-chart\" style=\"width:4%\"></div>\n",
       " <span>0.02 ppb or less</span>\n",
       " </div>,\n",
       " <div class=\"contam-bar-wrapper flex\">\n",
       " <div class=\"contam-chart-bar this-utility-chart\" style=\"width:14%\"></div>\n",
       " <span>0.0763 ppb</span>\n",
       " </div>,\n",
       " <div class=\"contam-bar-wrapper flex\">\n",
       " <div class=\"contam-chart-bar\" style=\"width:90%\"></div>\n",
       " <span>0.484 ppb</span>\n",
       " </div>,\n",
       " <div class=\"contam-bar-wrapper flex\">\n",
       " <div class=\"contam-chart-bar\" style=\"width:23%\"></div>\n",
       " <span>0.122 ppb</span>\n",
       " </div>,\n",
       " <div class=\"contam-bar-wrapper flex\">\n",
       " <div class=\"contam-chart-bar mcl-chart-no-limit flex\">NO LEGAL LIMIT</div>\n",
       " </div>,\n",
       " <div class=\"contam-bar-wrapper flex\">\n",
       " <div class=\"contam-chart-bar ewg-health-guideline-chart\" style=\"width:1%\"></div>\n",
       " <span>0.1 ppb or less</span>\n",
       " </div>,\n",
       " <div class=\"contam-bar-wrapper flex\">\n",
       " <div class=\"contam-chart-bar this-utility-chart\" style=\"width:48%\"></div>\n",
       " <span>32 ppb</span>\n",
       " </div>,\n",
       " <div class=\"contam-bar-wrapper flex\">\n",
       " <div class=\"contam-chart-bar mcl-chart\" style=\"width:90%\"></div>\n",
       " <span>60 ppb</span>\n",
       " </div>,\n",
       " <div class=\"contam-bar-wrapper flex\">\n",
       " <div class=\"contam-chart-bar\" style=\"width:26%\"></div>\n",
       " <span>17.1 ppb</span>\n",
       " </div>,\n",
       " <div class=\"contam-bar-wrapper flex\">\n",
       " <div class=\"contam-chart-bar\" style=\"width:41%\"></div>\n",
       " <span>27.3 ppb</span>\n",
       " </div>,\n",
       " <div class=\"contam-bar-wrapper flex\">\n",
       " <div class=\"contam-chart-bar ewg-health-guideline-chart\" style=\"width:1%\"></div>\n",
       " <span>0.06 ppb or less</span>\n",
       " </div>,\n",
       " <div class=\"contam-bar-wrapper flex\">\n",
       " <div class=\"contam-chart-bar this-utility-chart\" style=\"width:79%\"></div>\n",
       " <span>27.2 ppb</span>\n",
       " </div>,\n",
       " <div class=\"contam-bar-wrapper flex\">\n",
       " <div class=\"contam-chart-bar\" style=\"width:69%\"></div>\n",
       " <span>23.7 ppb</span>\n",
       " </div>,\n",
       " <div class=\"contam-bar-wrapper flex\">\n",
       " <div class=\"contam-chart-bar\" style=\"width:90%\"></div>\n",
       " <span>31 ppb</span>\n",
       " </div>,\n",
       " <div class=\"contam-bar-wrapper flex\">\n",
       " <div class=\"contam-chart-bar mcl-chart-no-limit flex\">NO LEGAL LIMIT</div>\n",
       " </div>,\n",
       " <div class=\"contam-bar-wrapper flex\">\n",
       " <div class=\"contam-chart-bar ewg-health-guideline-chart\" style=\"width:1%\"></div>\n",
       " <span>0.14 ppm or less</span>\n",
       " </div>,\n",
       " <div class=\"contam-bar-wrapper flex\">\n",
       " <div class=\"contam-chart-bar this-utility-chart\" style=\"width:3%\"></div>\n",
       " <span>0.354 ppm</span>\n",
       " </div>,\n",
       " <div class=\"contam-bar-wrapper flex\">\n",
       " <div class=\"contam-chart-bar mcl-chart\" style=\"width:90%\"></div>\n",
       " <span>10 ppm</span>\n",
       " </div>,\n",
       " <div class=\"contam-bar-wrapper flex\">\n",
       " <div class=\"contam-chart-bar\" style=\"width:8%\"></div>\n",
       " <span>0.935 ppm</span>\n",
       " </div>,\n",
       " <div class=\"contam-bar-wrapper flex\">\n",
       " <div class=\"contam-chart-bar\" style=\"width:7%\"></div>\n",
       " <span>0.733 ppm</span>\n",
       " </div>,\n",
       " <div class=\"contam-bar-wrapper flex\">\n",
       " <div class=\"contam-chart-bar ewg-health-guideline-chart\" style=\"width:1%\"></div>\n",
       " <span>0.14 ppm or less</span>\n",
       " </div>,\n",
       " <div class=\"contam-bar-wrapper flex\">\n",
       " <div class=\"contam-chart-bar this-utility-chart\" style=\"width:3%\"></div>\n",
       " <span>0.372 ppm</span>\n",
       " </div>,\n",
       " <div class=\"contam-bar-wrapper flex\">\n",
       " <div class=\"contam-chart-bar mcl-chart\" style=\"width:90%\"></div>\n",
       " <span>10 ppm</span>\n",
       " </div>,\n",
       " <div class=\"contam-bar-wrapper flex\">\n",
       " <div class=\"contam-chart-bar\" style=\"width:8%\"></div>\n",
       " <span>0.888 ppm</span>\n",
       " </div>,\n",
       " <div class=\"contam-bar-wrapper flex\">\n",
       " <div class=\"contam-chart-bar\" style=\"width:6%\"></div>\n",
       " <span>0.699 ppm</span>\n",
       " </div>,\n",
       " <div class=\"contam-bar-wrapper flex\">\n",
       " <div class=\"contam-chart-bar ewg-health-guideline-chart\" style=\"width:1%\"></div>\n",
       " <span>0.007 ppt or less</span>\n",
       " </div>,\n",
       " <div class=\"contam-bar-wrapper flex\">\n",
       " <div class=\"contam-chart-bar this-utility-chart\" style=\"width:5%\"></div>\n",
       " <span>0.058 ppt</span>\n",
       " </div>,\n",
       " <div class=\"contam-bar-wrapper flex\">\n",
       " <div class=\"contam-chart-bar\" style=\"width:90%\"></div>\n",
       " <span>1.15 ppt</span>\n",
       " </div>,\n",
       " <div class=\"contam-bar-wrapper flex\">\n",
       " <div class=\"contam-chart-bar\" style=\"width:86%\"></div>\n",
       " <span>1.1 ppt</span>\n",
       " </div>,\n",
       " <div class=\"contam-bar-wrapper flex\">\n",
       " <div class=\"contam-chart-bar mcl-chart-no-limit flex\">NO LEGAL LIMIT</div>\n",
       " </div>,\n",
       " <div class=\"contam-bar-wrapper flex\">\n",
       " <div class=\"contam-chart-bar ewg-health-guideline-chart\" style=\"width:1%\"></div>\n",
       " <span>0.15 ppb or less</span>\n",
       " </div>,\n",
       " <div class=\"contam-bar-wrapper flex\">\n",
       " <div class=\"contam-chart-bar this-utility-chart\" style=\"width:48%\"></div>\n",
       " <span>42.4 ppb</span>\n",
       " </div>,\n",
       " <div class=\"contam-bar-wrapper flex\">\n",
       " <div class=\"contam-chart-bar mcl-chart\" style=\"width:90%\"></div>\n",
       " <span>80 ppb</span>\n",
       " </div>,\n",
       " <div class=\"contam-bar-wrapper flex\">\n",
       " <div class=\"contam-chart-bar\" style=\"width:33%\"></div>\n",
       " <span>29.7 ppb</span>\n",
       " </div>,\n",
       " <div class=\"contam-bar-wrapper flex\">\n",
       " <div class=\"contam-chart-bar\" style=\"width:44%\"></div>\n",
       " <span>38.8 ppb</span>\n",
       " </div>,\n",
       " <div class=\"contam-bar-wrapper flex\">\n",
       " <div class=\"contam-chart-bar ewg-health-guideline-chart\" style=\"width:1%\"></div>\n",
       " <span>0.0017 ppb or less</span>\n",
       " </div>,\n",
       " <div class=\"contam-bar-wrapper flex\">\n",
       " <div class=\"contam-chart-bar this-utility-chart\" style=\"width:1%\"></div>\n",
       " <span>0.000833 ppb</span>\n",
       " </div>,\n",
       " <div class=\"contam-bar-wrapper flex\">\n",
       " <div class=\"contam-chart-bar mcl-chart\" style=\"width:90%\"></div>\n",
       " <span>0.2 ppb</span>\n",
       " </div>,\n",
       " <div class=\"contam-bar-wrapper flex\">\n",
       " <div class=\"contam-chart-bar\" style=\"width:1%\"></div>\n",
       " <span>0.00041 ppb</span>\n",
       " </div>,\n",
       " <div class=\"contam-bar-wrapper flex\">\n",
       " <div class=\"contam-chart-bar\" style=\"width:1%\"></div>\n",
       " <span> ppb</span>\n",
       " </div>,\n",
       " <div class=\"contam-bar-wrapper flex\">\n",
       " <div class=\"contam-chart-bar ewg-health-guideline-chart\" style=\"width:90%\"></div>\n",
       " <span>600 ppb or less</span>\n",
       " </div>,\n",
       " <div class=\"contam-bar-wrapper flex\">\n",
       " <div class=\"contam-chart-bar this-utility-chart\" style=\"width:5%\"></div>\n",
       " <span>35.9 ppb</span>\n",
       " </div>,\n",
       " <div class=\"contam-bar-wrapper flex\">\n",
       " <div class=\"contam-chart-bar\" style=\"width:3%\"></div>\n",
       " <span>22.7 ppb</span>\n",
       " </div>,\n",
       " <div class=\"contam-bar-wrapper flex\">\n",
       " <div class=\"contam-chart-bar\" style=\"width:5%\"></div>\n",
       " <span>35.7 ppb</span>\n",
       " </div>,\n",
       " <div class=\"contam-bar-wrapper flex\">\n",
       " <div class=\"contam-chart-bar mcl-chart-no-limit flex\">NO LEGAL LIMIT</div>\n",
       " </div>,\n",
       " <div class=\"contam-bar-wrapper flex\">\n",
       " <div class=\"contam-chart-bar this-utility-chart\" style=\"width:1%\"></div>\n",
       " <span>0.0961 ppb</span>\n",
       " </div>,\n",
       " <div class=\"contam-bar-wrapper flex\">\n",
       " <div class=\"contam-chart-bar mcl-chart\" style=\"width:90%\"></div>\n",
       " <span>100 ppb</span>\n",
       " </div>,\n",
       " <div class=\"contam-bar-wrapper flex\">\n",
       " <div class=\"contam-chart-bar\" style=\"width:1%\"></div>\n",
       " <span>0.579 ppb</span>\n",
       " </div>,\n",
       " <div class=\"contam-bar-wrapper flex\">\n",
       " <div class=\"contam-chart-bar\" style=\"width:1%\"></div>\n",
       " <span>0.124 ppb</span>\n",
       " </div>,\n",
       " <div class=\"contam-bar-wrapper flex\">\n",
       " <div class=\"contam-chart-bar ewg-health-guideline-chart-no-limit flex\">NO EWG HEALTH GUIDELINE</div>\n",
       " </div>,\n",
       " <div class=\"contam-bar-wrapper flex\">\n",
       " <div class=\"contam-chart-bar this-utility-chart\" style=\"width:18%\"></div>\n",
       " <span>0.815 ppm</span>\n",
       " </div>,\n",
       " <div class=\"contam-bar-wrapper flex\">\n",
       " <div class=\"contam-chart-bar mcl-chart\" style=\"width:90%\"></div>\n",
       " <span>4 ppm</span>\n",
       " </div>,\n",
       " <div class=\"contam-bar-wrapper flex\">\n",
       " <div class=\"contam-chart-bar\" style=\"width:11%\"></div>\n",
       " <span>0.489 ppm</span>\n",
       " </div>,\n",
       " <div class=\"contam-bar-wrapper flex\">\n",
       " <div class=\"contam-chart-bar\" style=\"width:16%\"></div>\n",
       " <span>0.717 ppm</span>\n",
       " </div>,\n",
       " <div class=\"contam-bar-wrapper flex\">\n",
       " <div class=\"contam-chart-bar ewg-health-guideline-chart-no-limit flex\">NO EWG HEALTH GUIDELINE</div>\n",
       " </div>,\n",
       " <div class=\"contam-bar-wrapper flex\">\n",
       " <div class=\"contam-chart-bar ewg-health-guideline-chart\" style=\"width:90%\"></div>\n",
       " <span>100 ppb or less</span>\n",
       " </div>,\n",
       " <div class=\"contam-bar-wrapper flex\">\n",
       " <div class=\"contam-chart-bar this-utility-chart\" style=\"width:1%\"></div>\n",
       " <span>0.978 ppb</span>\n",
       " </div>,\n",
       " <div class=\"contam-bar-wrapper flex\">\n",
       " <div class=\"contam-chart-bar\" style=\"width:9%\"></div>\n",
       " <span>10.1 ppb</span>\n",
       " </div>,\n",
       " <div class=\"contam-bar-wrapper flex\">\n",
       " <div class=\"contam-chart-bar\" style=\"width:3%\"></div>\n",
       " <span>2.79 ppb</span>\n",
       " </div>,\n",
       " <div class=\"contam-bar-wrapper flex\">\n",
       " <div class=\"contam-chart-bar mcl-chart-no-limit flex\">NO LEGAL LIMIT</div>\n",
       " </div>,\n",
       " <div class=\"contam-bar-wrapper flex\">\n",
       " <div class=\"contam-chart-bar ewg-health-guideline-chart\" style=\"width:90%\"></div>\n",
       " <span>40 ppb or less</span>\n",
       " </div>,\n",
       " <div class=\"contam-bar-wrapper flex\">\n",
       " <div class=\"contam-chart-bar this-utility-chart\" style=\"width:1%\"></div>\n",
       " <span>0.153 ppb</span>\n",
       " </div>,\n",
       " <div class=\"contam-bar-wrapper flex\">\n",
       " <div class=\"contam-chart-bar\" style=\"width:3%\"></div>\n",
       " <span>1.52 ppb</span>\n",
       " </div>,\n",
       " <div class=\"contam-bar-wrapper flex\">\n",
       " <div class=\"contam-chart-bar\" style=\"width:5%\"></div>\n",
       " <span>2.25 ppb</span>\n",
       " </div>,\n",
       " <div class=\"contam-bar-wrapper flex\">\n",
       " <div class=\"contam-chart-bar mcl-chart-no-limit flex\">NO LEGAL LIMIT</div>\n",
       " </div>,\n",
       " <div class=\"contam-bar-wrapper flex\">\n",
       " <div class=\"contam-chart-bar ewg-health-guideline-chart\" style=\"width:1%\"></div>\n",
       " <span>1 ppt or less</span>\n",
       " </div>,\n",
       " <div class=\"contam-bar-wrapper flex\">\n",
       " <div class=\"contam-chart-bar this-utility-chart\" style=\"width:1%\"></div>\n",
       " <span>0.081 ppt</span>\n",
       " </div>,\n",
       " <div class=\"contam-bar-wrapper flex\">\n",
       " <div class=\"contam-chart-bar\" style=\"width:90%\"></div>\n",
       " <span>156.3 ppt</span>\n",
       " </div>,\n",
       " <div class=\"contam-bar-wrapper flex\">\n",
       " <div class=\"contam-chart-bar\" style=\"width:1%\"></div>\n",
       " <span>0.057 ppt</span>\n",
       " </div>,\n",
       " <div class=\"contam-bar-wrapper flex\">\n",
       " <div class=\"contam-chart-bar mcl-chart-no-limit flex\">NO LEGAL LIMIT</div>\n",
       " </div>,\n",
       " <div class=\"contam-bar-wrapper flex\">\n",
       " <div class=\"contam-chart-bar ewg-health-guideline-chart\" style=\"width:90%\"></div>\n",
       " <span>1 ppt or less</span>\n",
       " </div>,\n",
       " <div class=\"contam-bar-wrapper flex\">\n",
       " <div class=\"contam-chart-bar this-utility-chart\" style=\"width:24%\"></div>\n",
       " <span>0.265 ppt</span>\n",
       " </div>,\n",
       " <div class=\"contam-bar-wrapper flex\">\n",
       " <div class=\"contam-chart-bar\" style=\"width:82%\"></div>\n",
       " <span>0.908 ppt</span>\n",
       " </div>,\n",
       " <div class=\"contam-bar-wrapper flex\">\n",
       " <div class=\"contam-chart-bar\" style=\"width:23%\"></div>\n",
       " <span>0.252 ppt</span>\n",
       " </div>,\n",
       " <div class=\"contam-bar-wrapper flex\">\n",
       " <div class=\"contam-chart-bar mcl-chart-no-limit flex\">NO LEGAL LIMIT</div>\n",
       " </div>,\n",
       " <div class=\"contam-bar-wrapper flex\">\n",
       " <div class=\"contam-chart-bar ewg-health-guideline-chart\" style=\"width:90%\"></div>\n",
       " <span>1,500 ppb or less</span>\n",
       " </div>,\n",
       " <div class=\"contam-bar-wrapper flex\">\n",
       " <div class=\"contam-chart-bar this-utility-chart\" style=\"width:1%\"></div>\n",
       " <span>0.227 ppb</span>\n",
       " </div>,\n",
       " <div class=\"contam-bar-wrapper flex\">\n",
       " <div class=\"contam-chart-bar\" style=\"width:1%\"></div>\n",
       " <span>3.33 ppb</span>\n",
       " </div>,\n",
       " <div class=\"contam-bar-wrapper flex\">\n",
       " <div class=\"contam-chart-bar\" style=\"width:1%\"></div>\n",
       " <span>0.178 ppb</span>\n",
       " </div>,\n",
       " <div class=\"contam-bar-wrapper flex\">\n",
       " <div class=\"contam-chart-bar mcl-chart-no-limit flex\">NO LEGAL LIMIT</div>\n",
       " </div>,\n",
       " <div class=\"contam-bar-wrapper flex\">\n",
       " <div class=\"contam-chart-bar ewg-health-guideline-chart\" style=\"width:90%\"></div>\n",
       " <span>21 ppb or less</span>\n",
       " </div>,\n",
       " <div class=\"contam-bar-wrapper flex\">\n",
       " <div class=\"contam-chart-bar this-utility-chart\" style=\"width:1%\"></div>\n",
       " <span>0.153 ppb</span>\n",
       " </div>,\n",
       " <div class=\"contam-bar-wrapper flex\">\n",
       " <div class=\"contam-chart-bar\" style=\"width:7%\"></div>\n",
       " <span>1.59 ppb</span>\n",
       " </div>,\n",
       " <div class=\"contam-bar-wrapper flex\">\n",
       " <div class=\"contam-chart-bar\" style=\"width:1%\"></div>\n",
       " <span>0.186 ppb</span>\n",
       " </div>,\n",
       " <div class=\"contam-bar-wrapper flex\">\n",
       " <div class=\"contam-chart-bar mcl-chart-no-limit flex\">NO LEGAL LIMIT</div>\n",
       " </div>]"
      ]
     },
     "execution_count": 100,
     "metadata": {},
     "output_type": "execute_result"
    }
   ],
   "source": [
    "values"
   ]
  },
  {
   "cell_type": "code",
   "execution_count": 47,
   "id": "6576612b",
   "metadata": {},
   "outputs": [],
   "source": [
    "things = water_company_html.find_all(\"div\", class_=\"contaminant-name\")"
   ]
  },
  {
   "cell_type": "code",
   "execution_count": 58,
   "id": "a5a39739",
   "metadata": {},
   "outputs": [
    {
     "data": {
      "text/plain": [
       "'0.775 ppb</span></div><div class=\"flex-sb mb10\">'"
      ]
     },
     "execution_count": 58,
     "metadata": {},
     "output_type": "execute_result"
    }
   ],
   "source": [
    "str(things[-1]).split(\"<span>\")[3]"
   ]
  },
  {
   "cell_type": "code",
   "execution_count": 55,
   "id": "b6673dd4",
   "metadata": {},
   "outputs": [
    {
     "data": {
      "text/plain": [
       "'1.19'"
      ]
     },
     "execution_count": 55,
     "metadata": {},
     "output_type": "execute_result"
    }
   ],
   "source": [
    "str(things[0]).split(\"<span>\")[2].split(\"<\")[0].split(\" \")[0]"
   ]
  },
  {
   "cell_type": "code",
   "execution_count": 61,
   "id": "78f9269f",
   "metadata": {},
   "outputs": [
    {
     "name": "stdout",
     "output_type": "stream",
     "text": [
      "1.19\n",
      "7.57\n",
      "14.7\n",
      "51.1\n",
      "0.150\n",
      "2.75\n",
      "1.23\n",
      "0.204\n",
      "41.1\n",
      "0.0774\n",
      "0.775\n"
     ]
    }
   ],
   "source": [
    "for thing in things:\n",
    "    value = str(thing).split(\"<span>\")[2].split(\"<\")[0].split(\" \")[0]\n",
    "    if value == \"THIS\":\n",
    "        value = str(thing).split(\"<span>\")[3].split(\"<\")[0].split(\" \")[0]\n",
    "        \n",
    "    print(value)"
   ]
  },
  {
   "cell_type": "code",
   "execution_count": 79,
   "id": "bbc912cd",
   "metadata": {},
   "outputs": [],
   "source": [
    "def indexofcontam(list_, contam):\n",
    "    for i, ele in enumerate(list_):\n",
    "        if contam == str(ele):\n",
    "            return i\n",
    "    return -1"
   ]
  },
  {
   "cell_type": "code",
   "execution_count": 80,
   "id": "6e54838f",
   "metadata": {},
   "outputs": [],
   "source": [
    "contam_list = ['<h3>Arsenic</h3>', '<h3>Haloacetic acids (HAA5)†</h3>', '<h3>Haloacetic acids (HAA9)†</h3>','<h3>Radium, combined (-226 &amp; -228)</h3>', '<h3>Total trihalomethanes (TTHMs)†</h3>', '<h3>Nitrate</h3>']"
   ]
  },
  {
   "cell_type": "code",
   "execution_count": 81,
   "id": "dc925624",
   "metadata": {},
   "outputs": [],
   "source": [
    "other_dets_contam_list = ['Arsenic\\r</a', 'Haloacetic acids (HAA5)\\r</a', 'Haloacetic acids (HAA9)\\r</a','Radium, combined (-226 &amp; -228)\\r</a', 'Total trihalomethanes (TTHMs)\\r</a', 'Nitrate\\r</a']"
   ]
  },
  {
   "cell_type": "code",
   "execution_count": 82,
   "id": "1cacc222",
   "metadata": {},
   "outputs": [],
   "source": [
    "water_sources_list = ['surface water', 'groundwater']"
   ]
  },
  {
   "cell_type": "code",
   "execution_count": 83,
   "id": "409e5606",
   "metadata": {},
   "outputs": [],
   "source": [
    "water_dict = {\"contam_0\": [], \"contam_1\": [], \"contam_2\": [], \"contam_3\": [], \"contam_4\": [], \"contam_5\": [], \"county_name\": [], \"number_served\": [], \"water_source\": [], \"purchased\": [], \"water_company_name\": []}"
   ]
  },
  {
   "cell_type": "code",
   "execution_count": 84,
   "id": "a18bd7c3",
   "metadata": {},
   "outputs": [],
   "source": [
    "headers = {'User-Agent': ua.chrome}"
   ]
  },
  {
   "cell_type": "code",
   "execution_count": 85,
   "id": "6a717c13",
   "metadata": {
    "scrolled": false
   },
   "outputs": [
    {
     "name": "stderr",
     "output_type": "stream",
     "text": [
      " 95%|████████████████████████████████████████████████████████████████████████▎   | 59/62 [20:36:35<1:00:49, 1216.37s/it]"
     ]
    },
    {
     "name": "stdout",
     "output_type": "stream",
     "text": [
      "HTTPSConnectionPool(host='www.ewg.org', port=443): Read timed out. (read timeout=10)\n"
     ]
    },
    {
     "name": "stderr",
     "output_type": "stream",
     "text": [
      "100%|██████████████████████████████████████████████████████████████████████████████| 62/62 [21:46:15<00:00, 1264.11s/it]\n"
     ]
    }
   ],
   "source": [
    "for i in tqdm(range(36001, 36125, 2)):\n",
    "    time.sleep(10)\n",
    "    \n",
    "    try:\n",
    "        page = requests.get(f\"https://www.ewg.org/tapwater/search-results.php?fips={i}&searchtype=county\", headers=headers, timeout=10)\n",
    "    except requests.exceptions.Timeout as err: \n",
    "        print(err)\n",
    "    \n",
    "    soup = BeautifulSoup(page.content, \"html.parser\")\n",
    "    county = str(soup.find_all(\"h2\")[0]).replace(\"<h2>Systems serving \", \"\").replace(\", California</h2>\", \"\")\n",
    "    water_companies = soup.find_all(\"td\")\n",
    "    for comp in water_companies:\n",
    "        source_flag = 0\n",
    "        if (len(str(comp).split(\"<a href=\")) > 1) or len(str(comp).split(\"<\")) == 5:\n",
    "            if (str(comp) != '<td><a href=\"system.php?pws=\"></a></td>'):\n",
    "                if(str(comp).split('\"')[1] != 'pop-served-mobile'):\n",
    "                    split = str(comp).split('\"')[1]\n",
    "                    water_company_url = \"https://www.ewg.org/tapwater/\" + split\n",
    "                    time.sleep(10)\n",
    "                    try: \n",
    "                        water_company_page = requests.get(water_company_url, headers=headers, timeout=10)\n",
    "                    except requests.exceptions.Timeout as err: \n",
    "                        print(err)\n",
    "                    water_company_html = BeautifulSoup(water_company_page.content, \"html.parser\")\n",
    "                    contam_values = water_company_html.find_all(\"div\", class_=\"contaminant-name\")\n",
    "                    contams = water_company_html.find_all(\"h3\")\n",
    "                    other_det_contam = water_company_html.find_all(\"div\", class_=\"slide-toggle\")\n",
    "                    if len(other_det_contam) > 0:\n",
    "                        other_det_contam = str(other_det_contam[0]).split(\">\")\n",
    "                    water_company_name = str(water_company_html.title).split(\"| \")[1].replace(\"</title>\", \"\")\n",
    "                    served_people_str = str(water_company_html.find_all(\"ul\", class_=\"served-ul\")[0]).split(\"Serves:</span> \")[1].split(\"</li>\")[0]\n",
    "                    num_served = int(re.sub(',', '', served_people_str))\n",
    "                    if len(str(water_company_html.find_all(\"ul\", class_=\"served-ul\")[0]).split(\"Source:</span>\")) > 1:\n",
    "                        water_source = str(water_company_html.find_all(\"ul\", class_=\"served-ul\")[0]).split(\"Source:</span> \")[1].split(\"</li>\")[0].lower()\n",
    "                        source_flag = 1\n",
    "\n",
    "                    if num_served < 1000:\n",
    "                        continue\n",
    "                    if source_flag == 1:    \n",
    "                        if water_source in water_sources_list:\n",
    "                            water_dict['purchased'].append(0)\n",
    "                            water_dict['water_source'].append(water_source)\n",
    "\n",
    "                        else:\n",
    "                            water_dict['purchased'].append(1)\n",
    "                            water_dict['water_source'].append(water_source.replace(\"purchased \", \"\"))\n",
    "                    else:\n",
    "                        water_dict['water_source'].append(\"Unknown\")\n",
    "                        water_dict['purchased'].append(\"Unknown\")\n",
    "\n",
    "                    water_dict['water_company_name'].append(water_company_name)\n",
    "                    water_dict['number_served'].append(num_served)\n",
    "                    water_dict['county_name'].append(county)\n",
    "\n",
    "                    temp_contam = []\n",
    "                    for contaminant in contams:\n",
    "                        temp_contam.append(str(contaminant))\n",
    "                    contams = temp_contam\n",
    "                    contams = contams[2:-2]\n",
    "\n",
    "                    temp_contam = []\n",
    "                    for thing in contam_values:\n",
    "                        if str(thing) != '<div class=\"contaminant-name\">\\n<h2>Other Contaminants Tested</h2>\\n<span></span>\\n<span class=\"contaminant-close rotated\">✕</span>\\n</div>':\n",
    "                            value = str(thing).split(\"<span>\")[2].split(\"<\")[0].split(\" \")[0]\n",
    "                            if value == \"THIS\":\n",
    "                                value = str(thing).split(\"<span>\")[3].split(\"<\")[0].split(\" \")[0]\n",
    "                            temp_contam.append(value)\n",
    "                    contam_values = temp_contam\n",
    "\n",
    "                    for j, contam in enumerate(contam_list):\n",
    "                        idx = indexofcontam(contams, contam)\n",
    "                        if idx != -1:\n",
    "                            idx = math.floor(idx/2)\n",
    "                            contam_value = contam_values[idx]\n",
    "                            water_dict[f'contam_{j}'].append(float(contam_value))\n",
    "                        else:\n",
    "                            if len(other_det_contam) > 0:\n",
    "                                idx = indexofcontam(other_det_contam, other_dets_contam_list[j])\n",
    "                                if idx != -1:\n",
    "                                    water_dict[f'contam_{j}'].append(0)\n",
    "                                else:\n",
    "                                    water_dict[f'contam_{j}'].append('NT')\n",
    "                            else:\n",
    "                                water_dict[f'contam_{j}'].append('NT')"
   ]
  },
  {
   "cell_type": "code",
   "execution_count": 87,
   "id": "99316247",
   "metadata": {},
   "outputs": [],
   "source": [
    "water_df = pd.DataFrame.from_dict(water_dict)"
   ]
  },
  {
   "cell_type": "code",
   "execution_count": 91,
   "id": "7bb32aae",
   "metadata": {},
   "outputs": [
    {
     "data": {
      "text/plain": [
       "62"
      ]
     },
     "execution_count": 91,
     "metadata": {},
     "output_type": "execute_result"
    }
   ],
   "source": [
    "len(water_df.county_name.unique())"
   ]
  },
  {
   "cell_type": "code",
   "execution_count": 92,
   "id": "5c527f4e",
   "metadata": {},
   "outputs": [],
   "source": [
    "water_df.to_csv(\"ny_tap_water.csv\", index=False)"
   ]
  },
  {
   "cell_type": "code",
   "execution_count": null,
   "id": "c4a9c042",
   "metadata": {},
   "outputs": [],
   "source": []
  }
 ],
 "metadata": {
  "kernelspec": {
   "display_name": "Python 3 (ipykernel)",
   "language": "python",
   "name": "python3"
  },
  "language_info": {
   "codemirror_mode": {
    "name": "ipython",
    "version": 3
   },
   "file_extension": ".py",
   "mimetype": "text/x-python",
   "name": "python",
   "nbconvert_exporter": "python",
   "pygments_lexer": "ipython3",
   "version": "3.7.11"
  }
 },
 "nbformat": 4,
 "nbformat_minor": 5
}
